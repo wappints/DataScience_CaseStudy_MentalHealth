{
 "cells": [
  {
   "cell_type": "markdown",
   "metadata": {},
   "source": [
    "# Import Libraries"
   ]
  },
  {
   "cell_type": "code",
   "execution_count": 1,
   "metadata": {},
   "outputs": [],
   "source": [
    "import numpy as np\n",
    "import pandas as pd\n",
    "import matplotlib.pyplot as plt\n",
    "\n",
    "from scipy.stats import chi2_contingency\n",
    "from scipy.stats import chi2\n",
    "from scipy.stats import ttest_ind\n",
    "\n",
    "from sklearn.impute import SimpleImputer as Imputer"
   ]
  },
  {
   "cell_type": "markdown",
   "metadata": {},
   "source": [
    "# Dataset Description\n",
    "This dataset is from a 2014 survey conducted by a non-profit corporation called Open Sourcing Mental Illness (OSMI) that measures attitudes towards mental health and frequency of mental health disorders in the tech workplace.\n"
   ]
  },
  {
   "cell_type": "markdown",
   "metadata": {},
   "source": [
    "## Collection Process Description\n",
    "The dataset was posted on the Kaggle website by OSMI. However, the raw dataset is also found on their website (https://osmihelp.org/research). The OSMI surveyed over 1200 respondents from different parts of the world who work in the tech industry.\n",
    "\n",
    "Let us load the data to see how many observations are present in the dataset before being cleaned:"
   ]
  },
  {
   "cell_type": "code",
   "execution_count": 8,
   "metadata": {},
   "outputs": [
    {
     "name": "stdout",
     "output_type": "stream",
     "text": [
      "<class 'pandas.core.frame.DataFrame'>\n",
      "RangeIndex: 1259 entries, 0 to 1258\n",
      "Data columns (total 27 columns):\n",
      " #   Column                     Non-Null Count  Dtype \n",
      "---  ------                     --------------  ----- \n",
      " 0   Timestamp                  1259 non-null   object\n",
      " 1   Age                        1259 non-null   int64 \n",
      " 2   Gender                     1259 non-null   object\n",
      " 3   Country                    1259 non-null   object\n",
      " 4   state                      744 non-null    object\n",
      " 5   self_employed              1241 non-null   object\n",
      " 6   family_history             1259 non-null   object\n",
      " 7   treatment                  1259 non-null   object\n",
      " 8   work_interfere             995 non-null    object\n",
      " 9   no_employees               1259 non-null   object\n",
      " 10  remote_work                1259 non-null   object\n",
      " 11  tech_company               1259 non-null   object\n",
      " 12  benefits                   1259 non-null   object\n",
      " 13  care_options               1259 non-null   object\n",
      " 14  wellness_program           1259 non-null   object\n",
      " 15  seek_help                  1259 non-null   object\n",
      " 16  anonymity                  1259 non-null   object\n",
      " 17  leave                      1259 non-null   object\n",
      " 18  mental_health_consequence  1259 non-null   object\n",
      " 19  phys_health_consequence    1259 non-null   object\n",
      " 20  coworkers                  1259 non-null   object\n",
      " 21  supervisor                 1259 non-null   object\n",
      " 22  mental_health_interview    1259 non-null   object\n",
      " 23  phys_health_interview      1259 non-null   object\n",
      " 24  mental_vs_physical         1259 non-null   object\n",
      " 25  obs_consequence            1259 non-null   object\n",
      " 26  comments                   164 non-null    object\n",
      "dtypes: int64(1), object(26)\n",
      "memory usage: 265.7+ KB\n"
     ]
    }
   ],
   "source": [
    "mental_health_df = pd.read_csv(\"Mental-Health-In-Tech-Survey.csv\", skipinitialspace=True)\n",
    "mental_health_df.info()"
   ]
  },
  {
   "cell_type": "markdown",
   "metadata": {},
   "source": [
    "Evidenced by the contents of the dataframe, there are precisely 1259 observations from the dataset, which is enough observations to conclude that the sample size is sufficiently large. Although no further information was explicitly stated about the sampling method used, other than the number of respondents who answered the survey, it is safe to assume that the observations are independent, seeing how there is a diversity regarding the observations' demographics."
   ]
  },
  {
   "cell_type": "markdown",
   "metadata": {},
   "source": [
    "## Dataset File Structure\n",
    "The dataset is composed of a total of 1259 observations and 27 variables. Each row of the dataset represents a person who works in a tech company. Additionally, each column represents questions about their attitude towards mental health in a technological environment. However, we deemed that we do not need the variable \"Timestamp\" (with the index of 0) and the variable \"comments\" (with the index of 26) since we do not see the need to know the time of when they took the survey, and also the varied comments the respondents shared."
   ]
  },
  {
   "cell_type": "code",
   "execution_count": 9,
   "metadata": {},
   "outputs": [
    {
     "name": "stdout",
     "output_type": "stream",
     "text": [
      "<class 'pandas.core.frame.DataFrame'>\n",
      "RangeIndex: 1259 entries, 0 to 1258\n",
      "Data columns (total 25 columns):\n",
      " #   Column                     Non-Null Count  Dtype \n",
      "---  ------                     --------------  ----- \n",
      " 0   Age                        1259 non-null   int64 \n",
      " 1   Gender                     1259 non-null   object\n",
      " 2   Country                    1259 non-null   object\n",
      " 3   state                      744 non-null    object\n",
      " 4   self_employed              1241 non-null   object\n",
      " 5   family_history             1259 non-null   object\n",
      " 6   treatment                  1259 non-null   object\n",
      " 7   work_interfere             995 non-null    object\n",
      " 8   no_employees               1259 non-null   object\n",
      " 9   remote_work                1259 non-null   object\n",
      " 10  tech_company               1259 non-null   object\n",
      " 11  benefits                   1259 non-null   object\n",
      " 12  care_options               1259 non-null   object\n",
      " 13  wellness_program           1259 non-null   object\n",
      " 14  seek_help                  1259 non-null   object\n",
      " 15  anonymity                  1259 non-null   object\n",
      " 16  leave                      1259 non-null   object\n",
      " 17  mental_health_consequence  1259 non-null   object\n",
      " 18  phys_health_consequence    1259 non-null   object\n",
      " 19  coworkers                  1259 non-null   object\n",
      " 20  supervisor                 1259 non-null   object\n",
      " 21  mental_health_interview    1259 non-null   object\n",
      " 22  phys_health_interview      1259 non-null   object\n",
      " 23  mental_vs_physical         1259 non-null   object\n",
      " 24  obs_consequence            1259 non-null   object\n",
      "dtypes: int64(1), object(24)\n",
      "memory usage: 246.0+ KB\n"
     ]
    }
   ],
   "source": [
    "mental_df = mental_health_df.iloc[: , [1, 2, 3, 4, 5, 6, 7, 8, 9, 10, 11, 12, 13, 14, 15, 16, 17, 18, 19, 20, 21, 22, 23, 24, 25]].copy()\n",
    "mental_df.info()"
   ]
  },
  {
   "cell_type": "markdown",
   "metadata": {},
   "source": [
    "## Variables Discussion\n",
    "Before selecting the variables relevant to the case study, each observation spans 27 variables (columns). The following are the descriptions of each variable corresponding to the respondent's demographics and  mental health-related questions asked from the survey in the dataset:"
   ]
  },
  {
   "cell_type": "markdown",
   "metadata": {},
   "source": [
    "- **`Timestamp`**: Time when survey started.\n",
    "\n",
    "\n",
    "- **`Age`**: Age of respondent.\n",
    "\n",
    "\n",
    "- **`Gender`**: Gender of respondent.\n",
    "\n",
    "\n",
    "- **`Country`**: Country of origin.\n",
    "\n",
    "\n",
    "- **`state`**: variable that asks the question \"*If you live in the United States, which state or territory do you live in?*\"\n",
    "\n",
    "\n",
    "- **`self_employed`**: variable that asks the question \"*Are you self-employed?*\"\n",
    "\n",
    "\n",
    "- **`family_history`**: variable that asks the question \"*Do you have a family history of mental illness?*\"\n",
    "\n",
    "\n",
    "- **`treatment`**: variable that asks the question \"*Have you sought treatment for a mental health condition?*\"\n",
    "\n",
    "\n",
    "- **`work_interfere`**: variable that asks the question \"*If you have a mental health condition, do you feel that it interferes with your work?*\"\n",
    "\n",
    "\n",
    "- **`no_employees`**: variable that asks the question \"*How many employees does your company or organization have?*\"\n",
    "\n",
    "\n",
    "- **`remote_work`**: variable that asks the question \"*Do you work remotely (outside of an office) at least 50% of the time?*\"\n",
    "\n",
    "\n",
    "- **`tech_company`**: variable that asks the question \"*Is your employer primarily a tech company/organization?*\"\n",
    "\n",
    "\n",
    "- **`benefits`**: variable that asks the question \"*Does your employer provide mental health benefits?*\"\n",
    "\n",
    "\n",
    "- **`care_options`**: variable that asks the question \"*Do you know the options for mental health care your employer provides?*\"\n",
    "\n",
    "\n",
    "- **`wellness_program`**: variable that asks the question \"*Has your employer ever discussed mental health as part of an employee wellness program\"?*\"\n",
    "\n",
    "\n",
    "- **`seek_help`**: variable that asks the question \"*Does your employer provide resources to learn more about mental health issues and how to seek help?*\"\n",
    "\n",
    "\n",
    "- **`anonymity`**: variable that asks the question \"*Is your anonymity protected if you choose to take advantage of mental health or substance abuse treatment resources?*\"\n",
    "\n",
    "\n",
    "- **`leave`**: variable that asks the question \"*How easy is it for you to take medical leave for a mental health condition?*\"\n",
    "\n",
    "\n",
    "- **`mental_health_consequence`**: variable that asks the question \"*Do you think that discussing a mental health issue with your employer would have negative consequences?*\"\n",
    "\n",
    "\n",
    "- **`phys_health_consequence`**: variable that asks the question \"*Do you think that discussing a physical health issue with your employer would have negative consequences?*\"\n",
    "\n",
    "\n",
    "- **`coworkers`**: variable that asks the question \"*Would you be willing to discuss a mental health issue with your coworkers?*\"\n",
    "\n",
    "\n",
    "- **`supervisor`**: variable that asks the question \"*Would you be willing to discuss a mental health issue with your direct supervisor(s)?*\"\n",
    "\n",
    "\n",
    "- **`mental_health_interview`**: variable that asks the question \"*Would you bring up a mental health issue with a potential employer in an interview?*\"\n",
    "\n",
    "\n",
    "- **`phys_health_interview`**: variable that asks the question \"*Would you bring up a physical health issue with a potential employer in an interview?*\"\n",
    "\n",
    "\n",
    "- **`mental_vs_physical`**: variable that asks the question \"*Do you feel that your employer takes mental health as seriously as physical health?*\"\n",
    "\n",
    "\n",
    "- **`obs_consequence`**: variable that asks the question \"*Have you heard of or observed negative consequences for coworkers with mental health conditions in your workplace?*\"\n",
    "\n",
    "\n",
    "- **`comments`**: variable that asks the question \"*Any additional notes or comments*\"\n",
    "\n",
    "After selecting only the most relevant variables to the case study, the total number of variables has been cut down from 27 to 25 variables. Those not included in the selection were the variables **`Timestamp`** and **`comments`**."
   ]
  },
  {
   "cell_type": "markdown",
   "metadata": {},
   "source": [
    "# Exploratory Data Analysis\n",
    "This is the section of the notebook where the EDA is performed."
   ]
  },
  {
   "cell_type": "markdown",
   "metadata": {},
   "source": [
    "## Understanding the Data\n",
    "Before we process the data, it is vital to understand the contents of the dataset. By doing this, we can figure out what each observation represents and how each variable is related to one another. Let us go ahead and look at some of the observations."
   ]
  },
  {
   "cell_type": "code",
   "execution_count": 10,
   "metadata": {},
   "outputs": [
    {
     "data": {
      "text/html": [
       "<div>\n",
       "<style scoped>\n",
       "    .dataframe tbody tr th:only-of-type {\n",
       "        vertical-align: middle;\n",
       "    }\n",
       "\n",
       "    .dataframe tbody tr th {\n",
       "        vertical-align: top;\n",
       "    }\n",
       "\n",
       "    .dataframe thead th {\n",
       "        text-align: right;\n",
       "    }\n",
       "</style>\n",
       "<table border=\"1\" class=\"dataframe\">\n",
       "  <thead>\n",
       "    <tr style=\"text-align: right;\">\n",
       "      <th></th>\n",
       "      <th>Age</th>\n",
       "      <th>Gender</th>\n",
       "      <th>Country</th>\n",
       "      <th>state</th>\n",
       "      <th>self_employed</th>\n",
       "      <th>family_history</th>\n",
       "      <th>treatment</th>\n",
       "      <th>work_interfere</th>\n",
       "      <th>no_employees</th>\n",
       "      <th>remote_work</th>\n",
       "      <th>...</th>\n",
       "      <th>anonymity</th>\n",
       "      <th>leave</th>\n",
       "      <th>mental_health_consequence</th>\n",
       "      <th>phys_health_consequence</th>\n",
       "      <th>coworkers</th>\n",
       "      <th>supervisor</th>\n",
       "      <th>mental_health_interview</th>\n",
       "      <th>phys_health_interview</th>\n",
       "      <th>mental_vs_physical</th>\n",
       "      <th>obs_consequence</th>\n",
       "    </tr>\n",
       "  </thead>\n",
       "  <tbody>\n",
       "    <tr>\n",
       "      <th>0</th>\n",
       "      <td>37</td>\n",
       "      <td>Female</td>\n",
       "      <td>United States</td>\n",
       "      <td>IL</td>\n",
       "      <td>NaN</td>\n",
       "      <td>No</td>\n",
       "      <td>Yes</td>\n",
       "      <td>Often</td>\n",
       "      <td>6-25</td>\n",
       "      <td>No</td>\n",
       "      <td>...</td>\n",
       "      <td>Yes</td>\n",
       "      <td>Somewhat easy</td>\n",
       "      <td>No</td>\n",
       "      <td>No</td>\n",
       "      <td>Some of them</td>\n",
       "      <td>Yes</td>\n",
       "      <td>No</td>\n",
       "      <td>Maybe</td>\n",
       "      <td>Yes</td>\n",
       "      <td>No</td>\n",
       "    </tr>\n",
       "    <tr>\n",
       "      <th>1</th>\n",
       "      <td>44</td>\n",
       "      <td>M</td>\n",
       "      <td>United States</td>\n",
       "      <td>IN</td>\n",
       "      <td>NaN</td>\n",
       "      <td>No</td>\n",
       "      <td>No</td>\n",
       "      <td>Rarely</td>\n",
       "      <td>More than 1000</td>\n",
       "      <td>No</td>\n",
       "      <td>...</td>\n",
       "      <td>Don't know</td>\n",
       "      <td>Don't know</td>\n",
       "      <td>Maybe</td>\n",
       "      <td>No</td>\n",
       "      <td>No</td>\n",
       "      <td>No</td>\n",
       "      <td>No</td>\n",
       "      <td>No</td>\n",
       "      <td>Don't know</td>\n",
       "      <td>No</td>\n",
       "    </tr>\n",
       "    <tr>\n",
       "      <th>2</th>\n",
       "      <td>32</td>\n",
       "      <td>Male</td>\n",
       "      <td>Canada</td>\n",
       "      <td>NaN</td>\n",
       "      <td>NaN</td>\n",
       "      <td>No</td>\n",
       "      <td>No</td>\n",
       "      <td>Rarely</td>\n",
       "      <td>6-25</td>\n",
       "      <td>No</td>\n",
       "      <td>...</td>\n",
       "      <td>Don't know</td>\n",
       "      <td>Somewhat difficult</td>\n",
       "      <td>No</td>\n",
       "      <td>No</td>\n",
       "      <td>Yes</td>\n",
       "      <td>Yes</td>\n",
       "      <td>Yes</td>\n",
       "      <td>Yes</td>\n",
       "      <td>No</td>\n",
       "      <td>No</td>\n",
       "    </tr>\n",
       "    <tr>\n",
       "      <th>3</th>\n",
       "      <td>31</td>\n",
       "      <td>Male</td>\n",
       "      <td>United Kingdom</td>\n",
       "      <td>NaN</td>\n",
       "      <td>NaN</td>\n",
       "      <td>Yes</td>\n",
       "      <td>Yes</td>\n",
       "      <td>Often</td>\n",
       "      <td>26-100</td>\n",
       "      <td>No</td>\n",
       "      <td>...</td>\n",
       "      <td>No</td>\n",
       "      <td>Somewhat difficult</td>\n",
       "      <td>Yes</td>\n",
       "      <td>Yes</td>\n",
       "      <td>Some of them</td>\n",
       "      <td>No</td>\n",
       "      <td>Maybe</td>\n",
       "      <td>Maybe</td>\n",
       "      <td>No</td>\n",
       "      <td>Yes</td>\n",
       "    </tr>\n",
       "    <tr>\n",
       "      <th>4</th>\n",
       "      <td>31</td>\n",
       "      <td>Male</td>\n",
       "      <td>United States</td>\n",
       "      <td>TX</td>\n",
       "      <td>NaN</td>\n",
       "      <td>No</td>\n",
       "      <td>No</td>\n",
       "      <td>Never</td>\n",
       "      <td>100-500</td>\n",
       "      <td>Yes</td>\n",
       "      <td>...</td>\n",
       "      <td>Don't know</td>\n",
       "      <td>Don't know</td>\n",
       "      <td>No</td>\n",
       "      <td>No</td>\n",
       "      <td>Some of them</td>\n",
       "      <td>Yes</td>\n",
       "      <td>Yes</td>\n",
       "      <td>Yes</td>\n",
       "      <td>Don't know</td>\n",
       "      <td>No</td>\n",
       "    </tr>\n",
       "  </tbody>\n",
       "</table>\n",
       "<p>5 rows × 25 columns</p>\n",
       "</div>"
      ],
      "text/plain": [
       "   Age  Gender         Country state self_employed family_history treatment  \\\n",
       "0   37  Female   United States    IL           NaN             No       Yes   \n",
       "1   44       M   United States    IN           NaN             No        No   \n",
       "2   32    Male          Canada   NaN           NaN             No        No   \n",
       "3   31    Male  United Kingdom   NaN           NaN            Yes       Yes   \n",
       "4   31    Male   United States    TX           NaN             No        No   \n",
       "\n",
       "  work_interfere    no_employees remote_work  ...   anonymity  \\\n",
       "0          Often            6-25          No  ...         Yes   \n",
       "1         Rarely  More than 1000          No  ...  Don't know   \n",
       "2         Rarely            6-25          No  ...  Don't know   \n",
       "3          Often          26-100          No  ...          No   \n",
       "4          Never         100-500         Yes  ...  Don't know   \n",
       "\n",
       "                leave mental_health_consequence phys_health_consequence  \\\n",
       "0       Somewhat easy                        No                      No   \n",
       "1          Don't know                     Maybe                      No   \n",
       "2  Somewhat difficult                        No                      No   \n",
       "3  Somewhat difficult                       Yes                     Yes   \n",
       "4          Don't know                        No                      No   \n",
       "\n",
       "      coworkers supervisor mental_health_interview phys_health_interview  \\\n",
       "0  Some of them        Yes                      No                 Maybe   \n",
       "1            No         No                      No                    No   \n",
       "2           Yes        Yes                     Yes                   Yes   \n",
       "3  Some of them         No                   Maybe                 Maybe   \n",
       "4  Some of them        Yes                     Yes                   Yes   \n",
       "\n",
       "  mental_vs_physical obs_consequence  \n",
       "0                Yes              No  \n",
       "1         Don't know              No  \n",
       "2                 No              No  \n",
       "3                 No             Yes  \n",
       "4         Don't know              No  \n",
       "\n",
       "[5 rows x 25 columns]"
      ]
     },
     "execution_count": 10,
     "metadata": {},
     "output_type": "execute_result"
    }
   ],
   "source": [
    "mental_df.head()"
   ]
  },
  {
   "cell_type": "code",
   "execution_count": 11,
   "metadata": {},
   "outputs": [
    {
     "data": {
      "text/html": [
       "<div>\n",
       "<style scoped>\n",
       "    .dataframe tbody tr th:only-of-type {\n",
       "        vertical-align: middle;\n",
       "    }\n",
       "\n",
       "    .dataframe tbody tr th {\n",
       "        vertical-align: top;\n",
       "    }\n",
       "\n",
       "    .dataframe thead th {\n",
       "        text-align: right;\n",
       "    }\n",
       "</style>\n",
       "<table border=\"1\" class=\"dataframe\">\n",
       "  <thead>\n",
       "    <tr style=\"text-align: right;\">\n",
       "      <th></th>\n",
       "      <th>Age</th>\n",
       "      <th>Gender</th>\n",
       "      <th>Country</th>\n",
       "      <th>state</th>\n",
       "      <th>self_employed</th>\n",
       "      <th>family_history</th>\n",
       "      <th>treatment</th>\n",
       "      <th>work_interfere</th>\n",
       "      <th>no_employees</th>\n",
       "      <th>remote_work</th>\n",
       "      <th>...</th>\n",
       "      <th>anonymity</th>\n",
       "      <th>leave</th>\n",
       "      <th>mental_health_consequence</th>\n",
       "      <th>phys_health_consequence</th>\n",
       "      <th>coworkers</th>\n",
       "      <th>supervisor</th>\n",
       "      <th>mental_health_interview</th>\n",
       "      <th>phys_health_interview</th>\n",
       "      <th>mental_vs_physical</th>\n",
       "      <th>obs_consequence</th>\n",
       "    </tr>\n",
       "  </thead>\n",
       "  <tbody>\n",
       "    <tr>\n",
       "      <th>1254</th>\n",
       "      <td>26</td>\n",
       "      <td>male</td>\n",
       "      <td>United Kingdom</td>\n",
       "      <td>NaN</td>\n",
       "      <td>No</td>\n",
       "      <td>No</td>\n",
       "      <td>Yes</td>\n",
       "      <td>NaN</td>\n",
       "      <td>26-100</td>\n",
       "      <td>No</td>\n",
       "      <td>...</td>\n",
       "      <td>Don't know</td>\n",
       "      <td>Somewhat easy</td>\n",
       "      <td>No</td>\n",
       "      <td>No</td>\n",
       "      <td>Some of them</td>\n",
       "      <td>Some of them</td>\n",
       "      <td>No</td>\n",
       "      <td>No</td>\n",
       "      <td>Don't know</td>\n",
       "      <td>No</td>\n",
       "    </tr>\n",
       "    <tr>\n",
       "      <th>1255</th>\n",
       "      <td>32</td>\n",
       "      <td>Male</td>\n",
       "      <td>United States</td>\n",
       "      <td>IL</td>\n",
       "      <td>No</td>\n",
       "      <td>Yes</td>\n",
       "      <td>Yes</td>\n",
       "      <td>Often</td>\n",
       "      <td>26-100</td>\n",
       "      <td>Yes</td>\n",
       "      <td>...</td>\n",
       "      <td>Yes</td>\n",
       "      <td>Somewhat difficult</td>\n",
       "      <td>No</td>\n",
       "      <td>No</td>\n",
       "      <td>Some of them</td>\n",
       "      <td>Yes</td>\n",
       "      <td>No</td>\n",
       "      <td>No</td>\n",
       "      <td>Yes</td>\n",
       "      <td>No</td>\n",
       "    </tr>\n",
       "    <tr>\n",
       "      <th>1256</th>\n",
       "      <td>34</td>\n",
       "      <td>male</td>\n",
       "      <td>United States</td>\n",
       "      <td>CA</td>\n",
       "      <td>No</td>\n",
       "      <td>Yes</td>\n",
       "      <td>Yes</td>\n",
       "      <td>Sometimes</td>\n",
       "      <td>More than 1000</td>\n",
       "      <td>No</td>\n",
       "      <td>...</td>\n",
       "      <td>Don't know</td>\n",
       "      <td>Somewhat difficult</td>\n",
       "      <td>Yes</td>\n",
       "      <td>Yes</td>\n",
       "      <td>No</td>\n",
       "      <td>No</td>\n",
       "      <td>No</td>\n",
       "      <td>No</td>\n",
       "      <td>No</td>\n",
       "      <td>No</td>\n",
       "    </tr>\n",
       "    <tr>\n",
       "      <th>1257</th>\n",
       "      <td>46</td>\n",
       "      <td>f</td>\n",
       "      <td>United States</td>\n",
       "      <td>NC</td>\n",
       "      <td>No</td>\n",
       "      <td>No</td>\n",
       "      <td>No</td>\n",
       "      <td>NaN</td>\n",
       "      <td>100-500</td>\n",
       "      <td>Yes</td>\n",
       "      <td>...</td>\n",
       "      <td>Don't know</td>\n",
       "      <td>Don't know</td>\n",
       "      <td>Yes</td>\n",
       "      <td>No</td>\n",
       "      <td>No</td>\n",
       "      <td>No</td>\n",
       "      <td>No</td>\n",
       "      <td>No</td>\n",
       "      <td>No</td>\n",
       "      <td>No</td>\n",
       "    </tr>\n",
       "    <tr>\n",
       "      <th>1258</th>\n",
       "      <td>25</td>\n",
       "      <td>Male</td>\n",
       "      <td>United States</td>\n",
       "      <td>IL</td>\n",
       "      <td>No</td>\n",
       "      <td>Yes</td>\n",
       "      <td>Yes</td>\n",
       "      <td>Sometimes</td>\n",
       "      <td>26-100</td>\n",
       "      <td>No</td>\n",
       "      <td>...</td>\n",
       "      <td>Yes</td>\n",
       "      <td>Don't know</td>\n",
       "      <td>Maybe</td>\n",
       "      <td>No</td>\n",
       "      <td>Some of them</td>\n",
       "      <td>No</td>\n",
       "      <td>No</td>\n",
       "      <td>No</td>\n",
       "      <td>Don't know</td>\n",
       "      <td>No</td>\n",
       "    </tr>\n",
       "  </tbody>\n",
       "</table>\n",
       "<p>5 rows × 25 columns</p>\n",
       "</div>"
      ],
      "text/plain": [
       "      Age Gender         Country state self_employed family_history treatment  \\\n",
       "1254   26   male  United Kingdom   NaN            No             No       Yes   \n",
       "1255   32   Male   United States    IL            No            Yes       Yes   \n",
       "1256   34   male   United States    CA            No            Yes       Yes   \n",
       "1257   46      f   United States    NC            No             No        No   \n",
       "1258   25   Male   United States    IL            No            Yes       Yes   \n",
       "\n",
       "     work_interfere    no_employees remote_work  ...   anonymity  \\\n",
       "1254            NaN          26-100          No  ...  Don't know   \n",
       "1255          Often          26-100         Yes  ...         Yes   \n",
       "1256      Sometimes  More than 1000          No  ...  Don't know   \n",
       "1257            NaN         100-500         Yes  ...  Don't know   \n",
       "1258      Sometimes          26-100          No  ...         Yes   \n",
       "\n",
       "                   leave mental_health_consequence phys_health_consequence  \\\n",
       "1254       Somewhat easy                        No                      No   \n",
       "1255  Somewhat difficult                        No                      No   \n",
       "1256  Somewhat difficult                       Yes                     Yes   \n",
       "1257          Don't know                       Yes                      No   \n",
       "1258          Don't know                     Maybe                      No   \n",
       "\n",
       "         coworkers    supervisor mental_health_interview  \\\n",
       "1254  Some of them  Some of them                      No   \n",
       "1255  Some of them           Yes                      No   \n",
       "1256            No            No                      No   \n",
       "1257            No            No                      No   \n",
       "1258  Some of them            No                      No   \n",
       "\n",
       "     phys_health_interview mental_vs_physical obs_consequence  \n",
       "1254                    No         Don't know              No  \n",
       "1255                    No                Yes              No  \n",
       "1256                    No                 No              No  \n",
       "1257                    No                 No              No  \n",
       "1258                    No         Don't know              No  \n",
       "\n",
       "[5 rows x 25 columns]"
      ]
     },
     "execution_count": 11,
     "metadata": {},
     "output_type": "execute_result"
    }
   ],
   "source": [
    "mental_df.tail()"
   ]
  },
  {
   "cell_type": "markdown",
   "metadata": {},
   "source": [
    "By looking at the two tables, each observation represents a person that works in the tech industry field. There are some important variables to note because it is the focus of the dataset, such as those related to work and mental health. This helps us get a glimpse of which values affect one another.\n",
    "\n",
    "To do this, we need to answer some exploratory data analysis questions with variables that we have chosen from which we want to gain insight.\n",
    "- How many respondents who work remotely and are diagnosed with mental health conditions have had their mental health condition interfere with work?\n",
    "- What is the frequency in observing negative consequences from coworkers who have mental health conditions between the different size of companies or organizations (6-25 employees, More than 1000 employees, 26-100 employees, 100-500 employees, 1-5 employees, 500-1000 employees)?\n",
    "- How many respondents feel that it is easy to take medical leave for a mental health condition if their employer takes mental health as seriously as physical health?\n",
    "- Which among the size of companies or organizations (6-25 employees, More than 1000 employees, 26-100 employees, 100-500 employees, 1-5 employees, 500-1000 employees) has the highest frequency in terms of willingness to discuss a mental health issue with coworkers?\n",
    "- What is the average age of employees who said yes in being willing to discuss a mental health issue with coworkers and the average age of employees who said no?"
   ]
  },
  {
   "cell_type": "markdown",
   "metadata": {},
   "source": [
    "## Data Cleaning\n",
    "Before we start answering our exploratory questions, we must clean the data to get accurate numerical summaries and visualizations. First, we check which variables contain **`NaN/null`** values."
   ]
  },
  {
   "cell_type": "code",
   "execution_count": 12,
   "metadata": {},
   "outputs": [
    {
     "data": {
      "text/plain": [
       "Age                          False\n",
       "Gender                       False\n",
       "Country                      False\n",
       "state                         True\n",
       "self_employed                 True\n",
       "family_history               False\n",
       "treatment                    False\n",
       "work_interfere                True\n",
       "no_employees                 False\n",
       "remote_work                  False\n",
       "tech_company                 False\n",
       "benefits                     False\n",
       "care_options                 False\n",
       "wellness_program             False\n",
       "seek_help                    False\n",
       "anonymity                    False\n",
       "leave                        False\n",
       "mental_health_consequence    False\n",
       "phys_health_consequence      False\n",
       "coworkers                    False\n",
       "supervisor                   False\n",
       "mental_health_interview      False\n",
       "phys_health_interview        False\n",
       "mental_vs_physical           False\n",
       "obs_consequence              False\n",
       "dtype: bool"
      ]
     },
     "execution_count": 12,
     "metadata": {},
     "output_type": "execute_result"
    }
   ],
   "source": [
    "mental_df.isnull().any()"
   ]
  },
  {
   "cell_type": "code",
   "execution_count": 13,
   "metadata": {},
   "outputs": [
    {
     "name": "stdout",
     "output_type": "stream",
     "text": [
      "Columns that contain NaN/null values:  ['state', 'self_employed', 'work_interfere']\n"
     ]
    }
   ],
   "source": [
    "nan_variables = mental_df.columns[mental_df.isnull().any()].tolist()\n",
    "print(\"Columns that contain NaN/null values: \", nan_variables)"
   ]
  },
  {
   "cell_type": "markdown",
   "metadata": {},
   "source": [
    "It is evident that the variables **`state`**, **`self_employed`**, and **`work_interfere`** contain one or more **`NaN/null`** values. However, let us check each of the variables' unique values to see which variable may need to be cleaned."
   ]
  },
  {
   "cell_type": "code",
   "execution_count": 14,
   "metadata": {},
   "outputs": [
    {
     "name": "stdout",
     "output_type": "stream",
     "text": [
      "Unique values for 'Age' column:\n",
      " [         37          44          32          31          33          35\n",
      "          39          42          23          29          36          27\n",
      "          46          41          34          30          40          38\n",
      "          50          24          18          28          26          22\n",
      "          19          25          45          21         -29          43\n",
      "          56          60          54         329          55 99999999999\n",
      "          48          20          57          58          47          62\n",
      "          51          65          49       -1726           5          53\n",
      "          61           8          11          -1          72]\n",
      "\n",
      "Unique values for 'Gender' column:\n",
      " ['Female' 'M' 'Male' 'male' 'female' 'm' 'Male-ish' 'maile' 'Trans-female'\n",
      " 'Cis Female' 'F' 'something kinda male?' 'Cis Male' 'Woman' 'f' 'Mal'\n",
      " 'Male (CIS)' 'queer/she/they' 'non-binary' 'Femake' 'woman' 'Make' 'Nah'\n",
      " 'All' 'Enby' 'fluid' 'Genderqueer' 'Female ' 'Androgyne' 'Agender'\n",
      " 'cis-female/femme' 'Guy (-ish) ^_^' 'male leaning androgynous' 'Male '\n",
      " 'Man' 'Trans woman' 'msle' 'Neuter' 'Female (trans)' 'queer'\n",
      " 'Female (cis)' 'Mail' 'cis male' 'A little about you' 'Malr' 'p' 'femail'\n",
      " 'Cis Man' 'ostensibly male, unsure what that really means']\n",
      "\n",
      "Unique values for 'Country' column:\n",
      " ['United States' 'Canada' 'United Kingdom' 'Bulgaria' 'France' 'Portugal'\n",
      " 'Netherlands' 'Switzerland' 'Poland' 'Australia' 'Germany' 'Russia'\n",
      " 'Mexico' 'Brazil' 'Slovenia' 'Costa Rica' 'Austria' 'Ireland' 'India'\n",
      " 'South Africa' 'Italy' 'Sweden' 'Colombia' 'Latvia' 'Romania' 'Belgium'\n",
      " 'New Zealand' 'Zimbabwe' 'Spain' 'Finland' 'Uruguay' 'Israel'\n",
      " 'Bosnia and Herzegovina' 'Hungary' 'Singapore' 'Japan' 'Nigeria'\n",
      " 'Croatia' 'Norway' 'Thailand' 'Denmark' 'Bahamas, The' 'Greece' 'Moldova'\n",
      " 'Georgia' 'China' 'Czech Republic' 'Philippines']\n",
      "\n",
      "Unique values for 'state' column:\n",
      " ['IL' 'IN' nan 'TX' 'TN' 'MI' 'OH' 'CA' 'CT' 'MD' 'NY' 'NC' 'MA' 'IA' 'PA'\n",
      " 'WA' 'WI' 'UT' 'NM' 'OR' 'FL' 'MN' 'MO' 'AZ' 'CO' 'GA' 'DC' 'NE' 'WV'\n",
      " 'OK' 'KS' 'VA' 'NH' 'KY' 'AL' 'NV' 'NJ' 'SC' 'VT' 'SD' 'ID' 'MS' 'RI'\n",
      " 'WY' 'LA' 'ME']\n",
      "\n",
      "Unique values for 'self_employed' column:\n",
      " [nan 'Yes' 'No']\n",
      "\n",
      "Unique values for 'family_history' column:\n",
      " ['No' 'Yes']\n",
      "\n",
      "Unique values for 'treatment' column:\n",
      " ['Yes' 'No']\n",
      "\n",
      "Unique values for 'work_interfere' column:\n",
      " ['Often' 'Rarely' 'Never' 'Sometimes' nan]\n",
      "\n",
      "Unique values for 'no_employees' column:\n",
      " ['6-25' 'More than 1000' '26-100' '100-500' '1-5' '500-1000']\n",
      "\n",
      "Unique values for 'remote_work' column:\n",
      " ['No' 'Yes']\n",
      "\n",
      "Unique values for 'tech_company' column:\n",
      " ['Yes' 'No']\n",
      "\n",
      "Unique values for 'benefits' column:\n",
      " ['Yes' \"Don't know\" 'No']\n",
      "\n",
      "Unique values for 'care_options' column:\n",
      " ['Not sure' 'No' 'Yes']\n",
      "\n",
      "Unique values for 'wellness_program' column:\n",
      " ['No' \"Don't know\" 'Yes']\n",
      "\n",
      "Unique values for 'seek_help' column:\n",
      " ['Yes' \"Don't know\" 'No']\n",
      "\n",
      "Unique values for 'anonymity' column:\n",
      " ['Yes' \"Don't know\" 'No']\n",
      "\n",
      "Unique values for 'leave' column:\n",
      " ['Somewhat easy' \"Don't know\" 'Somewhat difficult' 'Very difficult'\n",
      " 'Very easy']\n",
      "\n",
      "Unique values for 'mental_health_consequence' column:\n",
      " ['No' 'Maybe' 'Yes']\n",
      "\n",
      "Unique values for 'phys_health_consequence' column:\n",
      " ['No' 'Yes' 'Maybe']\n",
      "\n",
      "Unique values for 'coworkers' column:\n",
      " ['Some of them' 'No' 'Yes']\n",
      "\n",
      "Unique values for 'supervisor' column:\n",
      " ['Yes' 'No' 'Some of them']\n",
      "\n",
      "Unique values for 'mental_health_interview' column:\n",
      " ['No' 'Yes' 'Maybe']\n",
      "\n",
      "Unique values for 'phys_health_interview' column:\n",
      " ['Maybe' 'No' 'Yes']\n",
      "\n",
      "Unique values for 'mental_vs_physical' column:\n",
      " ['Yes' \"Don't know\" 'No']\n",
      "\n",
      "Unique values for 'obs_consequence' column:\n",
      " ['No' 'Yes']\n",
      "\n"
     ]
    }
   ],
   "source": [
    "for column in mental_df:\n",
    "    print(\"Unique values for '{}' column:\\n\".format(column), mental_df[column].unique())\n",
    "    print(\"\")"
   ]
  },
  {
   "cell_type": "markdown",
   "metadata": {},
   "source": [
    "Based on the results from the `unique` function being performed, variables **`Age`**, **`Gender`**, **`state`**, **`self_employed`**, **`coworkers`**, and **`work_interfere`** need to be cleaned. First, let us clean the variables with **`NaN`** values, specifically the variables **`state`**, **`self_employed`**, and **`work_interfere`**."
   ]
  },
  {
   "cell_type": "code",
   "execution_count": 15,
   "metadata": {},
   "outputs": [
    {
     "name": "stdout",
     "output_type": "stream",
     "text": [
      "state 515\n",
      "self_employed 18\n",
      "work_interfere 264\n"
     ]
    }
   ],
   "source": [
    "nan_variables = mental_df.columns[mental_df.isnull().any()].tolist()\n",
    "\n",
    "for nan in nan_variables:\n",
    "    print(nan, sum(mental_df[nan].isnull()))"
   ]
  },
  {
   "cell_type": "markdown",
   "metadata": {},
   "source": [
    "There are a significant amount of null values in each of the variables. Instead of removing these observations from the dataset, a sentinel value will be applied to identify these observations. \n",
    "These **`NaN/null`** values will now be set to a sentinel value for string columns."
   ]
  },
  {
   "cell_type": "code",
   "execution_count": 16,
   "metadata": {},
   "outputs": [],
   "source": [
    "mental_df.loc[mental_df['work_interfere'].isnull(),'work_interfere'] = \"Not stated\"\n",
    "mental_df.loc[mental_df['self_employed'].isnull(),'self_employed'] = \"Not stated\""
   ]
  },
  {
   "cell_type": "markdown",
   "metadata": {},
   "source": [
    "The group deemed that the most appropriate sentinel values for these variables is **\"not stated\"** since the respondents may not have answered because the question was not relevant to them or because they were unwilling to share the information."
   ]
  },
  {
   "cell_type": "code",
   "execution_count": 17,
   "metadata": {},
   "outputs": [
    {
     "name": "stdout",
     "output_type": "stream",
     "text": [
      "Countries with NaN Values:\n",
      " ['Canada' 'United Kingdom' 'Bulgaria' 'France' 'Portugal' 'Netherlands'\n",
      " 'United States' 'Switzerland' 'Poland' 'Australia' 'Germany' 'Russia'\n",
      " 'Mexico' 'Brazil' 'Slovenia' 'Costa Rica' 'Austria' 'Ireland' 'India'\n",
      " 'South Africa' 'Italy' 'Sweden' 'Colombia' 'Romania' 'Belgium'\n",
      " 'New Zealand' 'Zimbabwe' 'Spain' 'Finland' 'Uruguay' 'Israel'\n",
      " 'Bosnia and Herzegovina' 'Hungary' 'Singapore' 'Japan' 'Nigeria'\n",
      " 'Croatia' 'Norway' 'Thailand' 'Denmark' 'Greece' 'Moldova' 'Georgia'\n",
      " 'China' 'Czech Republic' 'Philippines']\n",
      "\n",
      "States from United States as country of Origin:\n",
      " ['IL' 'IN' 'TX' 'TN' 'MI' 'OH' 'CA' 'CT' 'MD' 'NY' 'NC' 'MA' 'IA' 'PA'\n",
      " 'WA' 'WI' 'UT' nan 'NM' 'OR' 'FL' 'MN' 'MO' 'AZ' 'CO' 'GA' 'DC' 'NE' 'WV'\n",
      " 'OK' 'KS' 'VA' 'NH' 'KY' 'AL' 'NV' 'NJ' 'SC' 'VT' 'SD' 'ID' 'MS' 'RI'\n",
      " 'WY' 'LA' 'ME']\n"
     ]
    }
   ],
   "source": [
    "print(\"Countries with NaN Values:\\n\", mental_df['Country'].loc[(mental_df['state'].isnull())].unique())\n",
    "\n",
    "print(\"\\nStates from United States as country of Origin:\\n\", mental_df.loc[mental_df.Country == 'United States', 'state'].unique())"
   ]
  },
  {
   "cell_type": "code",
   "execution_count": 18,
   "metadata": {},
   "outputs": [],
   "source": [
    "mental_df.loc[mental_df['state'].isnull(),'state'] = \"Not stated\""
   ]
  },
  {
   "cell_type": "markdown",
   "metadata": {},
   "source": [
    "Based on the function's result, we can see that countries that answered **`NaN`** for states are countries outside the United States; however, we can also see that the United States is also present in the array. For this reason, we deemed that it is not appropriate to replace the **`NaN`** value with the string **\"N/A\"**, but instead be replaced with **\"Not stated.\"**"
   ]
  },
  {
   "cell_type": "markdown",
   "metadata": {},
   "source": [
    "Let us take a look at the age values again by using the `unique` function."
   ]
  },
  {
   "cell_type": "code",
   "execution_count": 19,
   "metadata": {},
   "outputs": [
    {
     "name": "stdout",
     "output_type": "stream",
     "text": [
      "[         37          44          32          31          33          35\n",
      "          39          42          23          29          36          27\n",
      "          46          41          34          30          40          38\n",
      "          50          24          18          28          26          22\n",
      "          19          25          45          21         -29          43\n",
      "          56          60          54         329          55 99999999999\n",
      "          48          20          57          58          47          62\n",
      "          51          65          49       -1726           5          53\n",
      "          61           8          11          -1          72]\n"
     ]
    }
   ],
   "source": [
    "print(mental_df['Age'].unique())"
   ]
  },
  {
   "cell_type": "markdown",
   "metadata": {},
   "source": [
    "Since there are ages that do not seem faithful, we must assign them to a default or sentinel value. We have decided that it is most appropriate to set a sentinel value of **-1** to the ages, for now, so that it will be easy to identify these values when we will remap them to the average age of the whole dataset."
   ]
  },
  {
   "cell_type": "code",
   "execution_count": 20,
   "metadata": {},
   "outputs": [],
   "source": [
    "mental_df.at[mental_df['Age'] == 99999999999, 'Age'] = -1\n",
    "mental_df.at[mental_df['Age'] == -1726, 'Age'] = -1\n",
    "mental_df.at[mental_df['Age'] == 329, 'Age'] = -1\n",
    "mental_df.at[mental_df['Age'] == -29, 'Age'] = 29\n",
    "mental_df.at[mental_df['Age'] == -11, 'Age'] = -1\n",
    "mental_df.at[mental_df['Age'] == 5, 'Age'] = -1\n",
    "mental_df.at[mental_df['Age'] == 8, 'Age'] = -1\n",
    "mental_df.at[mental_df['Age'] == 11, 'Age'] = -1"
   ]
  },
  {
   "cell_type": "markdown",
   "metadata": {},
   "source": [
    "The sentinel value has been assigned to the values that needed to be cleaned. For the age **-29**, we decided to convert it instead to a positive value since we believe it might have been a typographical error."
   ]
  },
  {
   "cell_type": "markdown",
   "metadata": {},
   "source": [
    "After assigning the unfaithful values to the sentinel value, we will now apply numerical imputation. We decided not to drop these values because, seeing how mental health is a sensitive topic, the respondents may not have been willing to share their real ages. For the sake of this dataset, we will use the average of the ages to replace these sentinel values. We can use the `Imputer` function from *scikit-learn*, a machine learning library for data science in Python. \n",
    "\n",
    "Let us first count the number of sentinel values in the **`Age`** variable."
   ]
  },
  {
   "cell_type": "code",
   "execution_count": 21,
   "metadata": {},
   "outputs": [
    {
     "name": "stdout",
     "output_type": "stream",
     "text": [
      "7\n"
     ]
    }
   ],
   "source": [
    "print(mental_df[mental_df['Age'] == -1].Age.count())"
   ]
  },
  {
   "cell_type": "markdown",
   "metadata": {},
   "source": [
    "We have replaced seven observations with the sentinel value. We should now apply the **`Imputer`** function to the **`Age`** variable."
   ]
  },
  {
   "cell_type": "code",
   "execution_count": 22,
   "metadata": {},
   "outputs": [
    {
     "name": "stdout",
     "output_type": "stream",
     "text": [
      "Unique values for 'Age' column:\n",
      " [37 44 32 31 33 35 39 42 23 29 36 27 46 41 34 30 40 38 50 24 18 28 26 22\n",
      " 19 25 45 21 43 56 60 54 -1 55 48 20 57 58 47 62 51 65 49 53 61 72]\n"
     ]
    }
   ],
   "source": [
    "print(\"Unique values for 'Age' column:\\n\", mental_df['Age'].unique())"
   ]
  },
  {
   "cell_type": "code",
   "execution_count": 23,
   "metadata": {},
   "outputs": [],
   "source": [
    "mean_imputer = Imputer(missing_values=-1, strategy='mean')\n",
    "mental_df['Age'] = mean_imputer.fit_transform(mental_df[['Age']]).ravel()\n",
    "mental_df['Age'] = mental_df['Age'].astype(int)"
   ]
  },
  {
   "cell_type": "code",
   "execution_count": 24,
   "metadata": {},
   "outputs": [
    {
     "name": "stdout",
     "output_type": "stream",
     "text": [
      "Unique values for 'Age' column:\n",
      " [37 44 32 31 33 35 39 42 23 29 36 27 46 41 34 30 40 38 50 24 18 28 26 22\n",
      " 19 25 45 21 43 56 60 54 55 48 20 57 58 47 62 51 65 49 53 61 72]\n"
     ]
    }
   ],
   "source": [
    "print(\"Unique values for 'Age' column:\\n\", mental_df['Age'].unique())"
   ]
  },
  {
   "cell_type": "markdown",
   "metadata": {},
   "source": [
    "When we recall the **`unique`** function, we can see that the sentinel values have successfully been assigned to the **`Age`** variable's mean value."
   ]
  },
  {
   "cell_type": "markdown",
   "metadata": {},
   "source": [
    "Let us now take a look at the gender variable using the **`unique`** function."
   ]
  },
  {
   "cell_type": "code",
   "execution_count": 25,
   "metadata": {},
   "outputs": [
    {
     "name": "stdout",
     "output_type": "stream",
     "text": [
      "Unique values for 'Gender' column:\n",
      " ['Female' 'M' 'Male' 'male' 'female' 'm' 'Male-ish' 'maile' 'Trans-female'\n",
      " 'Cis Female' 'F' 'something kinda male?' 'Cis Male' 'Woman' 'f' 'Mal'\n",
      " 'Male (CIS)' 'queer/she/they' 'non-binary' 'Femake' 'woman' 'Make' 'Nah'\n",
      " 'All' 'Enby' 'fluid' 'Genderqueer' 'Female ' 'Androgyne' 'Agender'\n",
      " 'cis-female/femme' 'Guy (-ish) ^_^' 'male leaning androgynous' 'Male '\n",
      " 'Man' 'Trans woman' 'msle' 'Neuter' 'Female (trans)' 'queer'\n",
      " 'Female (cis)' 'Mail' 'cis male' 'A little about you' 'Malr' 'p' 'femail'\n",
      " 'Cis Man' 'ostensibly male, unsure what that really means']\n"
     ]
    }
   ],
   "source": [
    "print(\"Unique values for 'Gender' column:\\n\", mental_df['Gender'].unique())"
   ]
  },
  {
   "cell_type": "markdown",
   "metadata": {},
   "source": [
    "It is evident from the result that we need to also clean the **`Gender`** variable because of its inconsistencies with the formatting. Since several observations contained typographical errors in the `Gender` column, we remapped them to their correct spellings. Moreover, considering there are different gender identities, they were placed on the 'other gender' category while maintaining male and female as the other two categories. There are three categories, the heteronormative standard and the inclusivity of gender and sexual diversity."
   ]
  },
  {
   "cell_type": "code",
   "execution_count": 26,
   "metadata": {},
   "outputs": [],
   "source": [
    "mental_df['Gender'] = mental_df['Gender'].map({'male' : 'male', 'm' : 'male', 'M' : 'male', 'Male' : 'male', 'Male-ish': 'male', 'something kinda male?': 'male',\n",
    "'Cis Male' : 'male', 'cis male' : 'male', 'Male (CIS)' : 'male', 'Make' : 'male', 'Man' : 'male', 'Malr' : 'male', 'ostensibly male, unsure what that really means' : 'male', 'Mail' : 'male', 'Guy (-ish) ^_^' : 'male', 'msle' : 'male', 'something kinda male?' : 'male', 'Mal' : 'male', \"maile\" : 'male', \"Female (trans)\" : \"female\", \"cis-female/femme\" : \"female\", \"femail\" : \"female\", \"Cis Female\" : \"female\", 'A little about you' : 'other gender', \"p\" : 'other gender', 'Enby' : \"other gender\", 'Trans-female' : 'female', 'queer' : \"other gender\", \"male leaning androgynous\" : \"other gender\", \"agender\" : \"other gender\", \"Agender\" : \"other gender\", 'Neuter' : 'other gender', 'non-binary' : 'other gender', 'queer/she/they' : 'other gender', 'All' : 'other gender', 'fluid' : \"other gender\", 'Femake' : 'female', 'Trans woman' : 'female', \"Androgyne\" : \"other gender\", 'Genderqueer' : 'other gender', 'Nah' : 'other gender', 'female' : 'female', 'f': 'female', 'F': 'female', 'Female  ' : 'female', 'Female': 'female', 'Woman' : 'female', 'Male ' : 'male', 'male' : 'male', 'Male ' : 'male', ' F' : 'female', ' F' : 'female', 'Cis Man' : 'male', 'woman' : 'female', 'Female (cis)' : 'female', 'Female ' : 'female'})"
   ]
  },
  {
   "cell_type": "code",
   "execution_count": 27,
   "metadata": {},
   "outputs": [
    {
     "name": "stdout",
     "output_type": "stream",
     "text": [
      "Unique values for 'Gender' column:\n",
      " ['female' 'male' 'other gender']\n"
     ]
    }
   ],
   "source": [
    "print(\"Unique values for 'Gender' column:\\n\", mental_df['Gender'].unique())"
   ]
  },
  {
   "cell_type": "markdown",
   "metadata": {},
   "source": [
    "Upon checking the dataset's unique values, we have successfully remapped all genders down to the three categories previously mentioned."
   ]
  },
  {
   "cell_type": "markdown",
   "metadata": {},
   "source": [
    "There are some variables that we would be remapping to answer the EDA questions correctly. One of which will be the **`work_interfere`** variable. Let us take a look at the unique values of **`work_interfere`**."
   ]
  },
  {
   "cell_type": "code",
   "execution_count": 28,
   "metadata": {},
   "outputs": [
    {
     "name": "stdout",
     "output_type": "stream",
     "text": [
      "Unique values for 'work_interfere' column:\n",
      " ['Often' 'Rarely' 'Never' 'Sometimes' 'Not stated']\n"
     ]
    }
   ],
   "source": [
    "print(\"Unique values for 'work_interfere' column:\\n\", mental_df['work_interfere'].unique())"
   ]
  },
  {
   "cell_type": "markdown",
   "metadata": {},
   "source": [
    "The **`work_interfere`** variable originally asks if the respondent has a mental health condition, and if so, do they feel that it interferes with their work. Since it has varied answers, we will map the answers **\"Often\"**, **\"Rarely\"**, and **\"Sometimes\"** to **\"yes\"**, **\"Never\"** to **\"no\"**, and retain the **\"Not stated.\"** This is done to answer the first EDA question because we are ultimately concerned about the number of people who have had their mental health condition interfere with their work regardless of how frequently they are interfered by their condition."
   ]
  },
  {
   "cell_type": "code",
   "execution_count": 29,
   "metadata": {},
   "outputs": [],
   "source": [
    "mental_df['work_interfere'] = mental_df['work_interfere'].map({'Often': 'yes', 'Rarely': 'yes', 'Sometimes': 'yes',\n",
    "                                                               'Never': 'no', 'Not stated': 'Not stated'})"
   ]
  },
  {
   "cell_type": "code",
   "execution_count": 30,
   "metadata": {},
   "outputs": [
    {
     "name": "stdout",
     "output_type": "stream",
     "text": [
      "['yes' 'no' 'Not stated']\n"
     ]
    }
   ],
   "source": [
    "print(mental_df['work_interfere'].unique())"
   ]
  },
  {
   "cell_type": "markdown",
   "metadata": {},
   "source": [
    "Lastly, we will do the same for the `coworkers` variable.  Before remapping, let us take a look at the unique values of `coworkers`."
   ]
  },
  {
   "cell_type": "code",
   "execution_count": 31,
   "metadata": {},
   "outputs": [
    {
     "name": "stdout",
     "output_type": "stream",
     "text": [
      "['Some of them' 'No' 'Yes']\n"
     ]
    }
   ],
   "source": [
    "print(mental_df['coworkers'].unique())"
   ]
  },
  {
   "cell_type": "markdown",
   "metadata": {},
   "source": [
    "We will map the answer, **\"Some of them\"**, to **\"yes.\"** We will be doing this since we will utilize this variable more than once for the EDA questions and research questions. We will do this since we believe that the respondent still shows a willingness to discuss mental health issues, even if it is only with specific coworkers."
   ]
  },
  {
   "cell_type": "code",
   "execution_count": 32,
   "metadata": {},
   "outputs": [],
   "source": [
    "mental_df['coworkers'] = mental_df['coworkers'].map({'Yes': 'yes', 'No': 'no', 'Some of them': 'yes'})"
   ]
  },
  {
   "cell_type": "code",
   "execution_count": 33,
   "metadata": {},
   "outputs": [
    {
     "name": "stdout",
     "output_type": "stream",
     "text": [
      "['yes' 'no']\n"
     ]
    }
   ],
   "source": [
    "print(mental_df['coworkers'].unique())"
   ]
  },
  {
   "cell_type": "markdown",
   "metadata": {},
   "source": [
    "Upon checking for the unique values in this variable, we have successfully mapped the responses.\n",
    "\n",
    "Let us check again if there are still any **`NaN`** values to be cleaned."
   ]
  },
  {
   "cell_type": "code",
   "execution_count": 34,
   "metadata": {},
   "outputs": [
    {
     "data": {
      "text/plain": [
       "Age                          False\n",
       "Gender                       False\n",
       "Country                      False\n",
       "state                        False\n",
       "self_employed                False\n",
       "family_history               False\n",
       "treatment                    False\n",
       "work_interfere               False\n",
       "no_employees                 False\n",
       "remote_work                  False\n",
       "tech_company                 False\n",
       "benefits                     False\n",
       "care_options                 False\n",
       "wellness_program             False\n",
       "seek_help                    False\n",
       "anonymity                    False\n",
       "leave                        False\n",
       "mental_health_consequence    False\n",
       "phys_health_consequence      False\n",
       "coworkers                    False\n",
       "supervisor                   False\n",
       "mental_health_interview      False\n",
       "phys_health_interview        False\n",
       "mental_vs_physical           False\n",
       "obs_consequence              False\n",
       "dtype: bool"
      ]
     },
     "execution_count": 34,
     "metadata": {},
     "output_type": "execute_result"
    }
   ],
   "source": [
    "mental_df.isnull().any()"
   ]
  },
  {
   "cell_type": "markdown",
   "metadata": {},
   "source": [
    "After replacing missing values with a default value, remapping some values, there are no more **`NaN/null`** values in the dataset. It is safe to proceed with answering the EDA questions and research questions. "
   ]
  },
  {
   "cell_type": "markdown",
   "metadata": {},
   "source": [
    "## Data Visualization and Findings"
   ]
  },
  {
   "cell_type": "markdown",
   "metadata": {},
   "source": [
    "Let us start answering our exploratory questions. For reference, these are the EDA questions formulated:\n",
    "- How many respondents who work remotely and are diagnosed with mental health conditions have had their mental health condition interfere with work?\n",
    "- What is the frequency in observing negative consequences from coworkers who have mental health conditions between the different size of companies or organizations (6-25 employees, More than 1000 employees, 26-100 employees, 100-500 employees, 1-5 employees, 500-1000 employees)?\n",
    "- How many respondents feel that it is easy to take medical leave for a mental health condition if their employer takes mental health as seriously as physical health?\n",
    "- Which among the size of companies or organizations (6-25 employees, More than 1000 employees, 26-100 employees, 100-500 employees, 1-5 employees, 500-1000 employees) has the highest frequency in terms of willingness to discuss a mental health issue with coworkers?\n",
    "- What is the average age of employees who said yes in being willing to discuss a mental health issue with coworkers and the average age of employees who said no?"
   ]
  },
  {
   "cell_type": "markdown",
   "metadata": {},
   "source": [
    "### EDA Question 1"
   ]
  },
  {
   "cell_type": "markdown",
   "metadata": {},
   "source": [
    "Firstly, let us see how many respondents who work remotely and are diagnosed with mental health conditions have had their mental health condition interfere with work. \n",
    "\n",
    "Before computing the number of respondents, let us see the unique values of the variables we will work with to answer the question."
   ]
  },
  {
   "cell_type": "code",
   "execution_count": 35,
   "metadata": {},
   "outputs": [
    {
     "name": "stdout",
     "output_type": "stream",
     "text": [
      "Unique values for 'remote_work':\n",
      " ['No' 'Yes']\n",
      "\n",
      "Unique values for 'work_interfere':\n",
      " ['yes' 'no' 'Not stated']\n"
     ]
    }
   ],
   "source": [
    "print(\"Unique values for 'remote_work':\\n\", mental_df['remote_work'].unique())\n",
    "print(\"\\nUnique values for 'work_interfere':\\n\", mental_df['work_interfere'].unique())"
   ]
  },
  {
   "cell_type": "markdown",
   "metadata": {},
   "source": [
    "For reference, **`remote_work`** is a variable that asks if a respondent works remotely (outside of an office) at least 50% of the time, while **`work_interfere`** is a variable that asks if the mental health condition of a respondent interferes with work.\n",
    "\n",
    "Before answering the question, let us get a general overview of our variables by grouping them and counting their responses accordingly."
   ]
  },
  {
   "cell_type": "code",
   "execution_count": 36,
   "metadata": {},
   "outputs": [
    {
     "data": {
      "text/html": [
       "<div>\n",
       "<style scoped>\n",
       "    .dataframe tbody tr th:only-of-type {\n",
       "        vertical-align: middle;\n",
       "    }\n",
       "\n",
       "    .dataframe tbody tr th {\n",
       "        vertical-align: top;\n",
       "    }\n",
       "\n",
       "    .dataframe thead th {\n",
       "        text-align: right;\n",
       "    }\n",
       "</style>\n",
       "<table border=\"1\" class=\"dataframe\">\n",
       "  <thead>\n",
       "    <tr style=\"text-align: right;\">\n",
       "      <th></th>\n",
       "      <th>Has Interfered</th>\n",
       "      <th>Has not Interfered</th>\n",
       "      <th>Did not state an answer</th>\n",
       "    </tr>\n",
       "    <tr>\n",
       "      <th>remote_work</th>\n",
       "      <th></th>\n",
       "      <th></th>\n",
       "      <th></th>\n",
       "    </tr>\n",
       "  </thead>\n",
       "  <tbody>\n",
       "    <tr>\n",
       "      <th>No</th>\n",
       "      <td>534</td>\n",
       "      <td>157</td>\n",
       "      <td>192</td>\n",
       "    </tr>\n",
       "    <tr>\n",
       "      <th>Yes</th>\n",
       "      <td>248</td>\n",
       "      <td>56</td>\n",
       "      <td>72</td>\n",
       "    </tr>\n",
       "  </tbody>\n",
       "</table>\n",
       "</div>"
      ],
      "text/plain": [
       "             Has Interfered  Has not Interfered  Did not state an answer\n",
       "remote_work                                                             \n",
       "No                      534                 157                      192\n",
       "Yes                     248                  56                       72"
      ]
     },
     "execution_count": 36,
     "metadata": {},
     "output_type": "execute_result"
    }
   ],
   "source": [
    "remote_interfere = mental_df.groupby(\"work_interfere\")[\"remote_work\"].value_counts()\n",
    "reminter_table = pd.DataFrame([remote_interfere[\"yes\"], remote_interfere[\"no\"], remote_interfere[\"Not stated\"]], index = [\"Has Interfered\", \"Has not Interfered\", \"Did not state an answer\"]).transpose()\n",
    "\n",
    "reminter_table"
   ]
  },
  {
   "cell_type": "markdown",
   "metadata": {},
   "source": [
    "Since we have remapped the previous values to the new values in the data cleaning portion of the dataset, we can see from the table the number of people who work remotely at least 50% of the time and those who have had their mental illness interfere with work at least once.\n",
    "\n",
    "The table shows a total number of **248** respondents who work remotely at least 50% of the time who have mental health conditions that have had their mental health condition interfere with their work. Let us now visualize the graph to see its difference between those who have said it never interfered with them and those who have not stated any answers."
   ]
  },
  {
   "cell_type": "code",
   "execution_count": 37,
   "metadata": {},
   "outputs": [
    {
     "data": {
      "image/png": "[encoded data removed]",
      "text/plain": [
       "<Figure size 1080x720 with 1 Axes>"
      ]
     },
     "metadata": {
      "needs_background": "light"
     },
     "output_type": "display_data"
    }
   ],
   "source": [
    "reminter_table.plot.bar(figsize = (15,10))\n",
    "plt.xticks(rotation=0)\n",
    "plt.xlabel(\"Those who work remotely 50% of the time\")\n",
    "plt.ylabel(\"Count of those who have a mental health condition and if it interferes with their work\")\n",
    "plt.title(\"Bar plot of the number of respondents who work remotely and are diagnosed with mental health conditions that have their mental health condition interfere with work\")\n",
    "plt.show()"
   ]
  },
  {
   "cell_type": "markdown",
   "metadata": {},
   "source": [
    "A bar plot is used to see and compare the number between groups who have had their mental health interfere with their work, those who did not experience it interfere, and those who did not state their response. There are more respondents who work remotely (blue) and have had their mental health condition interfere with their work than those who work remotely and ***have not*** had their mental health condition interfere with their work or have not stated any answer. This is an interesting observation since most of those who work remotely have had their mental health condition interfere with their work at least once. The same could also be said to those working in the office with coworkers (those who answered ***no*** to working remotely at least 50% of the time)."
   ]
  },
  {
   "cell_type": "markdown",
   "metadata": {},
   "source": [
    "### EDA Question 2"
   ]
  },
  {
   "cell_type": "markdown",
   "metadata": {},
   "source": [
    "Let us now answer the second question, which is \"what is the frequency in observing negative consequences from coworkers who have mental health conditions between the different size of companies or organizations (6-25 employees, More than 1000 employees, 26-100 employees, 100-500 employees, 1-5 employees, 500-1000 employees)?\"\n",
    "\n",
    "To answer this question, let us first examine the unique values of the variables we will be working with once again. "
   ]
  },
  {
   "cell_type": "code",
   "execution_count": 38,
   "metadata": {},
   "outputs": [
    {
     "name": "stdout",
     "output_type": "stream",
     "text": [
      "Unique values for 'no_employees':\n",
      " ['6-25' 'More than 1000' '26-100' '100-500' '1-5' '500-1000']\n",
      "\n",
      "\n",
      "Unique values for 'obs_consequence':\n",
      " ['No' 'Yes']\n"
     ]
    }
   ],
   "source": [
    "print(\"Unique values for 'no_employees':\\n\", mental_df['no_employees'].unique())\n",
    "print(\"\\n\\nUnique values for 'obs_consequence':\\n\", mental_df['obs_consequence'].unique())"
   ]
  },
  {
   "cell_type": "markdown",
   "metadata": {},
   "source": [
    "The variable **`no_employees`** asks the question of how many employees does the respondent have in their company or organization, while **`obs_consequence`** asks the respondent if they have heard or observed negative consequences for coworkers with mental health conditions in their workplace.\n",
    "\n",
    "To get the frequency in observing negative consequences from coworkers who have mental health conditions between the different sizes of companies, we will group them into their respective groups using the `groupby`, and `value_counts` functions transposing the result to understand the table better."
   ]
  },
  {
   "cell_type": "code",
   "execution_count": 39,
   "metadata": {},
   "outputs": [
    {
     "data": {
      "text/html": [
       "<div>\n",
       "<style scoped>\n",
       "    .dataframe tbody tr th:only-of-type {\n",
       "        vertical-align: middle;\n",
       "    }\n",
       "\n",
       "    .dataframe tbody tr th {\n",
       "        vertical-align: top;\n",
       "    }\n",
       "\n",
       "    .dataframe thead th {\n",
       "        text-align: right;\n",
       "    }\n",
       "</style>\n",
       "<table border=\"1\" class=\"dataframe\">\n",
       "  <thead>\n",
       "    <tr style=\"text-align: right;\">\n",
       "      <th></th>\n",
       "      <th>Has Observed Negative Consequences</th>\n",
       "      <th>Has not Observed Negative Consequences</th>\n",
       "    </tr>\n",
       "  </thead>\n",
       "  <tbody>\n",
       "    <tr>\n",
       "      <th>More than 1000</th>\n",
       "      <td>52</td>\n",
       "      <td>230</td>\n",
       "    </tr>\n",
       "    <tr>\n",
       "      <th>26-100</th>\n",
       "      <td>40</td>\n",
       "      <td>249</td>\n",
       "    </tr>\n",
       "    <tr>\n",
       "      <th>1-5</th>\n",
       "      <td>32</td>\n",
       "      <td>130</td>\n",
       "    </tr>\n",
       "    <tr>\n",
       "      <th>6-25</th>\n",
       "      <td>26</td>\n",
       "      <td>264</td>\n",
       "    </tr>\n",
       "    <tr>\n",
       "      <th>100-500</th>\n",
       "      <td>25</td>\n",
       "      <td>151</td>\n",
       "    </tr>\n",
       "    <tr>\n",
       "      <th>500-1000</th>\n",
       "      <td>9</td>\n",
       "      <td>51</td>\n",
       "    </tr>\n",
       "  </tbody>\n",
       "</table>\n",
       "</div>"
      ],
      "text/plain": [
       "                Has Observed Negative Consequences  \\\n",
       "More than 1000                                  52   \n",
       "26-100                                          40   \n",
       "1-5                                             32   \n",
       "6-25                                            26   \n",
       "100-500                                         25   \n",
       "500-1000                                         9   \n",
       "\n",
       "                Has not Observed Negative Consequences  \n",
       "More than 1000                                     230  \n",
       "26-100                                             249  \n",
       "1-5                                                130  \n",
       "6-25                                               264  \n",
       "100-500                                            151  \n",
       "500-1000                                            51  "
      ]
     },
     "execution_count": 39,
     "metadata": {},
     "output_type": "execute_result"
    }
   ],
   "source": [
    "employees_consequence = mental_df.groupby(\"obs_consequence\")[\"no_employees\"].value_counts()\n",
    "empcons_table = pd.DataFrame([employees_consequence[\"Yes\"], employees_consequence[\"No\"]], index = [\"Has Observed Negative Consequences\", \"Has not Observed Negative Consequences\"]).transpose()\n",
    "empcons_table"
   ]
  },
  {
   "cell_type": "markdown",
   "metadata": {},
   "source": [
    "Based on the results, the frequency of observing negative consequences from companies or organizations are the following:\n",
    "* 52 for companies or organizations with more than 1000 employees\n",
    "* 40 for companies or organizations with 26-100 employees is 40\n",
    "* 32 for companies or organizations with 1-5 employees\n",
    "* 26 for companies or organizations with 6-25 employees\n",
    "* 25 for companies or organizations with 100-500 employees\n",
    "* 9 for companies or organizations with 500-1000 employees\n",
    "\n",
    "It is worth noting that the number of observations for the employee population varies per group. However, we can observe that across all the groups, most of the observations state that they have not heard or observed negative consequences for coworkers with mental health conditions in their workplace. Let us use a bar graph to compare both of these values. We will use a bar graph once again since it is the best graph to visualize the numerical summaries."
   ]
  },
  {
   "cell_type": "code",
   "execution_count": 40,
   "metadata": {},
   "outputs": [
    {
     "data": {
      "image/png": "[encoded data removed]",
      "text/plain": [
       "<Figure size 1080x720 with 1 Axes>"
      ]
     },
     "metadata": {
      "needs_background": "light"
     },
     "output_type": "display_data"
    }
   ],
   "source": [
    "empcons_table.plot.bar(figsize = (15,10))\n",
    "plt.xlabel(\"Company size\")\n",
    "plt.xticks(rotation=0)\n",
    "plt.ylabel(\"Count of those who have heard or observed negative consequences\")\n",
    "plt.title(\"Bar plot of the frequency in observing negative consequences from coworkers who have mental health conditions in companies with varying population\")\n",
    "plt.show()"
   ]
  },
  {
   "cell_type": "markdown",
   "metadata": {},
   "source": [
    "The graph shows that the majority of the respondents, regardless of their companies' size, did not observe negative consequences for coworkers with mental health conditions."
   ]
  },
  {
   "cell_type": "markdown",
   "metadata": {},
   "source": [
    "### EDA Question 3"
   ]
  },
  {
   "cell_type": "markdown",
   "metadata": {},
   "source": [
    "Let us answer the next question: \"how many respondents feel that it is easy to take medical leave if their employer takes mental health as seriously as physical health?\" Let us take a look at the unique values of the variables we will be dealing with."
   ]
  },
  {
   "cell_type": "code",
   "execution_count": 41,
   "metadata": {},
   "outputs": [
    {
     "name": "stdout",
     "output_type": "stream",
     "text": [
      "Unique values for 'leave':\n",
      " ['Somewhat easy' \"Don't know\" 'Somewhat difficult' 'Very difficult'\n",
      " 'Very easy']\n",
      "\n",
      "\n",
      "Unique values for 'mental_vs_physical':\n",
      " ['Yes' \"Don't know\" 'No']\n"
     ]
    }
   ],
   "source": [
    "print(\"Unique values for 'leave':\\n\", mental_df['leave'].unique())\n",
    "print(\"\\n\\nUnique values for 'mental_vs_physical':\\n\", mental_df['mental_vs_physical'].unique())"
   ]
  },
  {
   "cell_type": "markdown",
   "metadata": {},
   "source": [
    "The variable **`leave`** asks how easy it is for the respondent to take a medical leave for a mental health condition, while the variable **`mental_vs_physical`**\" asks if the respondents feel that their employer takes mental health as seriously as physical health. \n",
    "\n",
    "To get the number of respondents that feel it is easy to take medical leave if their employer takes mental health as seriously as physical health, let us create another table that displays the respondents' responses."
   ]
  },
  {
   "cell_type": "code",
   "execution_count": 42,
   "metadata": {},
   "outputs": [
    {
     "data": {
      "text/html": [
       "<div>\n",
       "<style scoped>\n",
       "    .dataframe tbody tr th:only-of-type {\n",
       "        vertical-align: middle;\n",
       "    }\n",
       "\n",
       "    .dataframe tbody tr th {\n",
       "        vertical-align: top;\n",
       "    }\n",
       "\n",
       "    .dataframe thead th {\n",
       "        text-align: right;\n",
       "    }\n",
       "</style>\n",
       "<table border=\"1\" class=\"dataframe\">\n",
       "  <thead>\n",
       "    <tr style=\"text-align: right;\">\n",
       "      <th></th>\n",
       "      <th>Employer Takes Mental Health as Seriously as Physical Health</th>\n",
       "      <th>Employer Does not take Mental Health as Seriously as Physical Health</th>\n",
       "      <th>Does not Know</th>\n",
       "    </tr>\n",
       "  </thead>\n",
       "  <tbody>\n",
       "    <tr>\n",
       "      <th>Very easy</th>\n",
       "      <td>125</td>\n",
       "      <td>23</td>\n",
       "      <td>58</td>\n",
       "    </tr>\n",
       "    <tr>\n",
       "      <th>Somewhat easy</th>\n",
       "      <td>93</td>\n",
       "      <td>50</td>\n",
       "      <td>123</td>\n",
       "    </tr>\n",
       "    <tr>\n",
       "      <th>Don't know</th>\n",
       "      <td>91</td>\n",
       "      <td>132</td>\n",
       "      <td>340</td>\n",
       "    </tr>\n",
       "    <tr>\n",
       "      <th>Somewhat difficult</th>\n",
       "      <td>23</td>\n",
       "      <td>68</td>\n",
       "      <td>35</td>\n",
       "    </tr>\n",
       "    <tr>\n",
       "      <th>Very difficult</th>\n",
       "      <td>11</td>\n",
       "      <td>67</td>\n",
       "      <td>20</td>\n",
       "    </tr>\n",
       "  </tbody>\n",
       "</table>\n",
       "</div>"
      ],
      "text/plain": [
       "                    Employer Takes Mental Health as Seriously as Physical Health  \\\n",
       "Very easy                                                         125              \n",
       "Somewhat easy                                                      93              \n",
       "Don't know                                                         91              \n",
       "Somewhat difficult                                                 23              \n",
       "Very difficult                                                     11              \n",
       "\n",
       "                    Employer Does not take Mental Health as Seriously as Physical Health  \\\n",
       "Very easy                                                          23                      \n",
       "Somewhat easy                                                      50                      \n",
       "Don't know                                                        132                      \n",
       "Somewhat difficult                                                 68                      \n",
       "Very difficult                                                     67                      \n",
       "\n",
       "                    Does not Know  \n",
       "Very easy                      58  \n",
       "Somewhat easy                 123  \n",
       "Don't know                    340  \n",
       "Somewhat difficult             35  \n",
       "Very difficult                 20  "
      ]
     },
     "execution_count": 42,
     "metadata": {},
     "output_type": "execute_result"
    }
   ],
   "source": [
    "leave_phys = mental_df.groupby(\"mental_vs_physical\")[\"leave\"].value_counts()\n",
    "leave_phys_table = pd.DataFrame([leave_phys[\"Yes\"], leave_phys[\"No\"], leave_phys[\"Don't know\"]], index = [\"Employer Takes Mental Health as Seriously as Physical Health\", \"Employer Does not take Mental Health as Seriously as Physical Health\", \"Does not Know\"]).transpose()\n",
    "leave_phys_table"
   ]
  },
  {
   "cell_type": "markdown",
   "metadata": {},
   "source": [
    "Since we want to find out how many respondents feel that it is easy to take medical leave for their mental health condition if their employer takes mental health as seriously as physical health, we will be adding the number of people who said **\"yes\"** for the categories **\"Very easy\"** and **\"Somewhat easy.\"** Therefore, a total number of **218** respondents feel that it is easy to take medical leave if their employer takes mental health as seriously as physical health. It is also worth noting that there are still a substantial number of those who do not know if their employer takes mental health as seriously as physical health and at the same time do not know if it is easy to take a medical leave.\n",
    "\n",
    "Let us visualize the results to see the difference. A bar plot is the most appropriate to visualize the results."
   ]
  },
  {
   "cell_type": "code",
   "execution_count": 43,
   "metadata": {},
   "outputs": [
    {
     "data": {
      "image/png": "[encoded data removed]",
      "text/plain": [
       "<Figure size 1224x720 with 1 Axes>"
      ]
     },
     "metadata": {
      "needs_background": "light"
     },
     "output_type": "display_data"
    }
   ],
   "source": [
    "leave_phys_table.plot.bar(figsize=(17,10))\n",
    "plt.xticks(rotation=0)\n",
    "plt.xlabel(\"Think that it is easy to take a medical leave for a mental health condition\")\n",
    "plt.ylabel(\"Count of those whose employer takes mental health as seriously as physical health\")\n",
    "plt.title(\"Bar plot of the respondents' view of the difficulty in asking for a medical leave from employers that take or do not take mental health as seriously as physical health\")\n",
    "plt.show()"
   ]
  },
  {
   "cell_type": "markdown",
   "metadata": {},
   "source": [
    "It is evident from the graph that there are a substantial number of those who do not know if their employer takes mental health as seriously as physical health and who do not know if it is easy to take medical leave for a mental health condition. This is still true even if answers from the categories \"Very easy\" and \"somewhat easy\" are combined."
   ]
  },
  {
   "cell_type": "markdown",
   "metadata": {},
   "source": [
    "### EDA Question 4 "
   ]
  },
  {
   "cell_type": "markdown",
   "metadata": {},
   "source": [
    "Let us answer the fourth EDA question. Which among the size of companies or organizations (6-25 employees, More than 1000 employees, 26-100 employees, 100-500 employees, 1-5 employees, 500-1000 employees) has the highest frequency in terms of willingness to discuss a mental health issue with coworkers? To answer this, we check which values in the **`no_employees`** and **`coworkers`** variables appear most often."
   ]
  },
  {
   "cell_type": "code",
   "execution_count": 44,
   "metadata": {},
   "outputs": [
    {
     "data": {
      "text/html": [
       "<div>\n",
       "<style scoped>\n",
       "    .dataframe tbody tr th:only-of-type {\n",
       "        vertical-align: middle;\n",
       "    }\n",
       "\n",
       "    .dataframe tbody tr th {\n",
       "        vertical-align: top;\n",
       "    }\n",
       "\n",
       "    .dataframe thead th {\n",
       "        text-align: right;\n",
       "    }\n",
       "</style>\n",
       "<table border=\"1\" class=\"dataframe\">\n",
       "  <thead>\n",
       "    <tr style=\"text-align: right;\">\n",
       "      <th></th>\n",
       "      <th>no_employees</th>\n",
       "      <th>coworkers</th>\n",
       "    </tr>\n",
       "  </thead>\n",
       "  <tbody>\n",
       "    <tr>\n",
       "      <th>count</th>\n",
       "      <td>1259</td>\n",
       "      <td>1259</td>\n",
       "    </tr>\n",
       "    <tr>\n",
       "      <th>unique</th>\n",
       "      <td>6</td>\n",
       "      <td>2</td>\n",
       "    </tr>\n",
       "    <tr>\n",
       "      <th>top</th>\n",
       "      <td>6-25</td>\n",
       "      <td>yes</td>\n",
       "    </tr>\n",
       "    <tr>\n",
       "      <th>freq</th>\n",
       "      <td>290</td>\n",
       "      <td>999</td>\n",
       "    </tr>\n",
       "  </tbody>\n",
       "</table>\n",
       "</div>"
      ],
      "text/plain": [
       "       no_employees coworkers\n",
       "count          1259      1259\n",
       "unique            6         2\n",
       "top            6-25       yes\n",
       "freq            290       999"
      ]
     },
     "execution_count": 44,
     "metadata": {},
     "output_type": "execute_result"
    }
   ],
   "source": [
    "num_employees_stats = mental_df['no_employees'].describe()\n",
    "willing_stats = mental_df['coworkers'].describe()\n",
    "pd.merge(num_employees_stats, willing_stats, left_index=True, right_index=True)"
   ]
  },
  {
   "cell_type": "markdown",
   "metadata": {},
   "source": [
    "From the table above, we can see that the occurrence of **\"6-25\"** is the most in the **`no_employees`** variable with a frequency of 290 out of 1259 observations. In the **`coworkers`** variable, the value **\"yes\"** appeared the most with a frequency of 999 out of 1259 observations. Now let us check the frequency of those who answered the most occurring response in both variables."
   ]
  },
  {
   "cell_type": "code",
   "execution_count": 45,
   "metadata": {},
   "outputs": [
    {
     "name": "stdout",
     "output_type": "stream",
     "text": [
      "238 observations\n"
     ]
    }
   ],
   "source": [
    "union = mental_df[(mental_df['no_employees'] == '6-25') & (mental_df['coworkers'] == 'yes')]\n",
    "print(len(union), \"observations\")"
   ]
  },
  {
   "cell_type": "markdown",
   "metadata": {},
   "source": [
    "We can see that there are **238 observations** that have answered the most occurring response in both variables. Let us compare and contrast how other groups look like with a bar graph."
   ]
  },
  {
   "cell_type": "code",
   "execution_count": 87,
   "metadata": {},
   "outputs": [
    {
     "ename": "AttributeError",
     "evalue": "'DataFrame' object has no attribute 'value_counts'",
     "output_type": "error",
     "traceback": [
      "\u001b[1;31m---------------------------------------------------------------------------\u001b[0m",
      "\u001b[1;31mAttributeError\u001b[0m                            Traceback (most recent call last)",
      "\u001b[1;32m<ipython-input-87-498d8302c37b>\u001b[0m in \u001b[0;36m<module>\u001b[1;34m\u001b[0m\n\u001b[0;32m      1\u001b[0m \u001b[0mempGroup_willing\u001b[0m \u001b[1;33m=\u001b[0m \u001b[0mmental_df\u001b[0m\u001b[1;33m.\u001b[0m\u001b[0mloc\u001b[0m\u001b[1;33m[\u001b[0m\u001b[1;33m:\u001b[0m\u001b[1;33m,\u001b[0m\u001b[1;33m[\u001b[0m\u001b[1;34m'no_employees'\u001b[0m\u001b[1;33m,\u001b[0m \u001b[1;34m'coworkers'\u001b[0m\u001b[1;33m]\u001b[0m\u001b[1;33m]\u001b[0m\u001b[1;33m\u001b[0m\u001b[1;33m\u001b[0m\u001b[0m\n\u001b[1;32m----> 2\u001b[1;33m \u001b[0mdf\u001b[0m \u001b[1;33m=\u001b[0m \u001b[0mempGroup_willing\u001b[0m\u001b[1;33m.\u001b[0m\u001b[0mvalue_counts\u001b[0m\u001b[1;33m(\u001b[0m\u001b[1;33m)\u001b[0m\u001b[1;33m.\u001b[0m\u001b[0munstack\u001b[0m\u001b[1;33m(\u001b[0m\u001b[1;33m)\u001b[0m\u001b[1;33m\u001b[0m\u001b[1;33m\u001b[0m\u001b[0m\n\u001b[0m\u001b[0;32m      3\u001b[0m \u001b[0max\u001b[0m \u001b[1;33m=\u001b[0m \u001b[0mdf\u001b[0m\u001b[1;33m.\u001b[0m\u001b[0mplot\u001b[0m\u001b[1;33m(\u001b[0m\u001b[0mfigsize\u001b[0m\u001b[1;33m=\u001b[0m\u001b[1;33m(\u001b[0m\u001b[1;36m20\u001b[0m\u001b[1;33m,\u001b[0m\u001b[1;36m10\u001b[0m\u001b[1;33m)\u001b[0m\u001b[1;33m,\u001b[0m \u001b[0mkind\u001b[0m\u001b[1;33m=\u001b[0m\u001b[1;34m'bar'\u001b[0m\u001b[1;33m)\u001b[0m\u001b[1;33m\u001b[0m\u001b[1;33m\u001b[0m\u001b[0m\n\u001b[0;32m      4\u001b[0m \u001b[1;33m\u001b[0m\u001b[0m\n\u001b[0;32m      5\u001b[0m \u001b[1;32mfor\u001b[0m \u001b[0mrect\u001b[0m \u001b[1;32min\u001b[0m \u001b[0max\u001b[0m\u001b[1;33m.\u001b[0m\u001b[0mpatches\u001b[0m\u001b[1;33m:\u001b[0m\u001b[1;33m\u001b[0m\u001b[1;33m\u001b[0m\u001b[0m\n",
      "\u001b[1;32m~\\anaconda3\\lib\\site-packages\\pandas\\core\\generic.py\u001b[0m in \u001b[0;36m__getattr__\u001b[1;34m(self, name)\u001b[0m\n\u001b[0;32m   5272\u001b[0m             \u001b[1;32mif\u001b[0m \u001b[0mself\u001b[0m\u001b[1;33m.\u001b[0m\u001b[0m_info_axis\u001b[0m\u001b[1;33m.\u001b[0m\u001b[0m_can_hold_identifiers_and_holds_name\u001b[0m\u001b[1;33m(\u001b[0m\u001b[0mname\u001b[0m\u001b[1;33m)\u001b[0m\u001b[1;33m:\u001b[0m\u001b[1;33m\u001b[0m\u001b[1;33m\u001b[0m\u001b[0m\n\u001b[0;32m   5273\u001b[0m                 \u001b[1;32mreturn\u001b[0m \u001b[0mself\u001b[0m\u001b[1;33m[\u001b[0m\u001b[0mname\u001b[0m\u001b[1;33m]\u001b[0m\u001b[1;33m\u001b[0m\u001b[1;33m\u001b[0m\u001b[0m\n\u001b[1;32m-> 5274\u001b[1;33m             \u001b[1;32mreturn\u001b[0m \u001b[0mobject\u001b[0m\u001b[1;33m.\u001b[0m\u001b[0m__getattribute__\u001b[0m\u001b[1;33m(\u001b[0m\u001b[0mself\u001b[0m\u001b[1;33m,\u001b[0m \u001b[0mname\u001b[0m\u001b[1;33m)\u001b[0m\u001b[1;33m\u001b[0m\u001b[1;33m\u001b[0m\u001b[0m\n\u001b[0m\u001b[0;32m   5275\u001b[0m \u001b[1;33m\u001b[0m\u001b[0m\n\u001b[0;32m   5276\u001b[0m     \u001b[1;32mdef\u001b[0m \u001b[0m__setattr__\u001b[0m\u001b[1;33m(\u001b[0m\u001b[0mself\u001b[0m\u001b[1;33m,\u001b[0m \u001b[0mname\u001b[0m\u001b[1;33m:\u001b[0m \u001b[0mstr\u001b[0m\u001b[1;33m,\u001b[0m \u001b[0mvalue\u001b[0m\u001b[1;33m)\u001b[0m \u001b[1;33m->\u001b[0m \u001b[1;32mNone\u001b[0m\u001b[1;33m:\u001b[0m\u001b[1;33m\u001b[0m\u001b[1;33m\u001b[0m\u001b[0m\n",
      "\u001b[1;31mAttributeError\u001b[0m: 'DataFrame' object has no attribute 'value_counts'"
     ]
    }
   ],
   "source": [
    "empGroup_willing = mental_df.loc[:,['no_employees', 'coworkers']]\n",
    "df = empGroup_willing.value_counts().unstack()\n",
    "ax = df.plot(figsize=(20,10), kind='bar')\n",
    "\n",
    "for rect in ax.patches:\n",
    "    height = rect.get_height()\n",
    "    ax.text(rect.get_x() + rect.get_width()/2., 1.00*height,\n",
    "            '%d' % int(height),\n",
    "            ha='center', va='bottom')\n",
    "\n",
    "plt.title('Bar plot of number of employees and willingness to talk about mental health issues with coworkers')\n",
    "plt.xlabel('Number of employees')\n",
    "plt.xticks(rotation=0)\n",
    "plt.ylabel('Count')\n",
    "plt.legend(['No', 'Yes'], bbox_to_anchor = (1.04,1), loc=\"upper left\", title='Are you willing to talk about mental health issues with coworkers?')\n",
    "\n",
    "plt.show()"
   ]
  },
  {
   "cell_type": "markdown",
   "metadata": {},
   "source": [
    "We can see from the graph that most of the respondents, regardless of the number of employees a company or organization has, are willing to discuss a mental health issue with a coworker."
   ]
  },
  {
   "cell_type": "markdown",
   "metadata": {},
   "source": [
    "### EDA Question 5"
   ]
  },
  {
   "cell_type": "markdown",
   "metadata": {},
   "source": [
    "The final EDA question is \"what is the average age of employees who said **\"yes\"** in being willing to discuss a mental health issue with coworkers and the average age of employees who said **\"no\"**?\" To answer this, we get the mean of the **`age`** variable of those who said **\"yes\"** in the `coworkers` variable, as well as those who said **\"no\"**.\n",
    "\n",
    "We can use a boxplot to quickly visualize the distribution of data, identify outliers and strong associations with the data provided."
   ]
  },
  {
   "cell_type": "code",
   "execution_count": 41,
   "metadata": {},
   "outputs": [
    {
     "data": {
      "image/png": "[encoded data removed]",
      "text/plain": [
       "<Figure size 432x288 with 2 Axes>"
      ]
     },
     "metadata": {
      "needs_background": "light"
     },
     "output_type": "display_data"
    }
   ],
   "source": [
    "mental_df.groupby('coworkers').boxplot(column='Age')\n",
    "plt.show()"
   ]
  },
  {
   "cell_type": "markdown",
   "metadata": {},
   "source": [
    "We can check the summary statistics between the two groups."
   ]
  },
  {
   "cell_type": "code",
   "execution_count": 42,
   "metadata": {},
   "outputs": [
    {
     "data": {
      "text/html": [
       "<div>\n",
       "<style scoped>\n",
       "    .dataframe tbody tr th:only-of-type {\n",
       "        vertical-align: middle;\n",
       "    }\n",
       "\n",
       "    .dataframe tbody tr th {\n",
       "        vertical-align: top;\n",
       "    }\n",
       "\n",
       "    .dataframe thead tr th {\n",
       "        text-align: left;\n",
       "    }\n",
       "\n",
       "    .dataframe thead tr:last-of-type th {\n",
       "        text-align: right;\n",
       "    }\n",
       "</style>\n",
       "<table border=\"1\" class=\"dataframe\">\n",
       "  <thead>\n",
       "    <tr>\n",
       "      <th></th>\n",
       "      <th colspan=\"3\" halign=\"left\">Age</th>\n",
       "    </tr>\n",
       "    <tr>\n",
       "      <th></th>\n",
       "      <th>mean</th>\n",
       "      <th>median</th>\n",
       "      <th>std</th>\n",
       "    </tr>\n",
       "    <tr>\n",
       "      <th>coworkers</th>\n",
       "      <th></th>\n",
       "      <th></th>\n",
       "      <th></th>\n",
       "    </tr>\n",
       "  </thead>\n",
       "  <tbody>\n",
       "    <tr>\n",
       "      <th>no</th>\n",
       "      <td>32.273077</td>\n",
       "      <td>31</td>\n",
       "      <td>7.898881</td>\n",
       "    </tr>\n",
       "    <tr>\n",
       "      <th>yes</th>\n",
       "      <td>32.022022</td>\n",
       "      <td>31</td>\n",
       "      <td>7.094800</td>\n",
       "    </tr>\n",
       "  </tbody>\n",
       "</table>\n",
       "</div>"
      ],
      "text/plain": [
       "                 Age                 \n",
       "                mean median       std\n",
       "coworkers                            \n",
       "no         32.273077     31  7.898881\n",
       "yes        32.022022     31  7.094800"
      ]
     },
     "execution_count": 42,
     "metadata": {},
     "output_type": "execute_result"
    }
   ],
   "source": [
    "summary_stat = mental_df.groupby('coworkers').agg({'Age': ['mean', 'median', 'std']})\n",
    "summary_stat"
   ]
  },
  {
   "cell_type": "markdown",
   "metadata": {},
   "source": [
    "Based on the summary statistics, the average age of those willing to discuss mental health issues is **32.02**, while those who are not willing are slightly older, with an age of **32.27**."
   ]
  },
  {
   "cell_type": "markdown",
   "metadata": {},
   "source": [
    "# Research Question"
   ]
  },
  {
   "cell_type": "markdown",
   "metadata": {},
   "source": [
    "Based on the exploratory data analysis, we have formulated our research questions:\n",
    "- Is there a statistical difference in the willingness of the employees to discuss a mental health issue with their coworkers between the different size of companies?\n",
    "- Is there a difference between the average age of employees who said YES in being willing to discuss a mental health issue with coworkers and those who said NO?"
   ]
  },
  {
   "cell_type": "markdown",
   "metadata": {},
   "source": [
    "The first research question's importance is to see if a company's size can impact a person's willingness to discuss a mental health issue with a coworker. From personal experiences, it often helps to discuss a mental health issue with someone else. But if a diverse set of people does not surround someone, it would usually be hard to choose someone you are willing to discuss a sensitive topic with, such as mental health issues. Thus, by answering this research question, we can see what it is like in the tech workplace; if there is a difference in employees' willingness to discuss a mental health issue with their coworkers between the different size of companies. \n",
    "\n",
    "The second research question's importance is to check whether an age difference plays a role in a person's attitude towards subjects pertaining to mental health. In previous experiences and notions, the older generation tends to be more conservative while the younger generation seems to be more open. Knowing the answer to this question can give us an idea of people's attitudes in the tech industry when it comes to discussing a mental health issue with a coworker. \n",
    "\n",
    "These questions are relevant for the Computer Science community since we will soon be working in a tech workplace. Knowing the answers to these questions provides a glimpse of the attitudes of those currently working in the tech industry and realize whether there is a need to improve the status quo."
   ]
  },
  {
   "cell_type": "markdown",
   "metadata": {},
   "source": [
    "## Data Modelling"
   ]
  },
  {
   "cell_type": "markdown",
   "metadata": {},
   "source": [
    "### Research Question 1"
   ]
  },
  {
   "cell_type": "markdown",
   "metadata": {},
   "source": [
    "Let us answer the first research question, \"is there a statistical difference in the willingness of the employees to discuss a mental health issue with their coworkers between the different size of companies?\"\n",
    "\n",
    "The variables that will be used are as follows:\n",
    "- **coworkers** Indicates the willingness of the employee to talk about a mental health issue to their coworkers\n",
    "- **no_employees** The population of the employees in the company\n",
    "- 0 indicates No\n",
    "- 1 indicates Yes"
   ]
  },
  {
   "cell_type": "code",
   "execution_count": 43,
   "metadata": {},
   "outputs": [
    {
     "data": {
      "text/plain": [
       "coworkers  no_employees  \n",
       "0          More than 1000     82\n",
       "           26-100             52\n",
       "           6-25               52\n",
       "           1-5                30\n",
       "           100-500            30\n",
       "           500-1000           14\n",
       "1          6-25              238\n",
       "           26-100            237\n",
       "           More than 1000    200\n",
       "           100-500           146\n",
       "           1-5               132\n",
       "           500-1000           46\n",
       "Name: no_employees, dtype: int64"
      ]
     },
     "execution_count": 43,
     "metadata": {},
     "output_type": "execute_result"
    }
   ],
   "source": [
    "mental_df.at[mental_df[\"coworkers\"] == \"no\", 'coworkers'] = 0\n",
    "mental_df.at[mental_df[\"coworkers\"] == \"yes\", 'coworkers'] = 1\n",
    "\n",
    "counts = mental_df.groupby(\"coworkers\")[\"no_employees\"].value_counts()\n",
    "counts"
   ]
  },
  {
   "cell_type": "markdown",
   "metadata": {},
   "source": [
    "#### Inference Utilizing Chi-Square Test"
   ]
  },
  {
   "cell_type": "markdown",
   "metadata": {},
   "source": [
    "To determine whether there is a statistical significance in the number of coworkers and the respective respondents' willingness to discuss a mental health issue with a coworker, we will be using the Chi-Square test on two categorical variables: **`coworkers`** and **`no_employees`**\n",
    "\n",
    "The chosen significance level (α) is 0.05."
   ]
  },
  {
   "cell_type": "code",
   "execution_count": 44,
   "metadata": {},
   "outputs": [],
   "source": [
    "sig_level = 0.05"
   ]
  },
  {
   "cell_type": "markdown",
   "metadata": {},
   "source": [
    "These are our respective hypotheses:\n",
    "\n",
    "$H_0$ (null hypothesis): There is no statistical difference in the willingness of the employees to discuss a mental health issue with their coworkers between the different size of companies\n",
    "\n",
    "$H_A$ (alternative hypothesis): There is a statistical difference in the willingness of the employees to discuss a mental health issue with their coworkers between the different size of companies"
   ]
  },
  {
   "cell_type": "code",
   "execution_count": 45,
   "metadata": {},
   "outputs": [
    {
     "data": {
      "text/html": [
       "<div>\n",
       "<style scoped>\n",
       "    .dataframe tbody tr th:only-of-type {\n",
       "        vertical-align: middle;\n",
       "    }\n",
       "\n",
       "    .dataframe tbody tr th {\n",
       "        vertical-align: top;\n",
       "    }\n",
       "\n",
       "    .dataframe thead th {\n",
       "        text-align: right;\n",
       "    }\n",
       "</style>\n",
       "<table border=\"1\" class=\"dataframe\">\n",
       "  <thead>\n",
       "    <tr style=\"text-align: right;\">\n",
       "      <th></th>\n",
       "      <th>no</th>\n",
       "      <th>yes</th>\n",
       "    </tr>\n",
       "  </thead>\n",
       "  <tbody>\n",
       "    <tr>\n",
       "      <th>More than 1000</th>\n",
       "      <td>82</td>\n",
       "      <td>200</td>\n",
       "    </tr>\n",
       "    <tr>\n",
       "      <th>26-100</th>\n",
       "      <td>52</td>\n",
       "      <td>237</td>\n",
       "    </tr>\n",
       "    <tr>\n",
       "      <th>6-25</th>\n",
       "      <td>52</td>\n",
       "      <td>238</td>\n",
       "    </tr>\n",
       "    <tr>\n",
       "      <th>1-5</th>\n",
       "      <td>30</td>\n",
       "      <td>132</td>\n",
       "    </tr>\n",
       "    <tr>\n",
       "      <th>100-500</th>\n",
       "      <td>30</td>\n",
       "      <td>146</td>\n",
       "    </tr>\n",
       "    <tr>\n",
       "      <th>500-1000</th>\n",
       "      <td>14</td>\n",
       "      <td>46</td>\n",
       "    </tr>\n",
       "  </tbody>\n",
       "</table>\n",
       "</div>"
      ],
      "text/plain": [
       "                no  yes\n",
       "More than 1000  82  200\n",
       "26-100          52  237\n",
       "6-25            52  238\n",
       "1-5             30  132\n",
       "100-500         30  146\n",
       "500-1000        14   46"
      ]
     },
     "execution_count": 45,
     "metadata": {},
     "output_type": "execute_result"
    }
   ],
   "source": [
    "table = pd.DataFrame([counts[0], counts[1]], index=[\"no\", \"yes\"]).transpose()\n",
    "table"
   ]
  },
  {
   "cell_type": "markdown",
   "metadata": {},
   "source": [
    "Let us compute the $p$-value."
   ]
  },
  {
   "cell_type": "code",
   "execution_count": 46,
   "metadata": {},
   "outputs": [
    {
     "data": {
      "text/plain": [
       "(16.885574029568957,\n",
       " 0.0047220000776374265,\n",
       " 5,\n",
       " array([[ 58.23669579, 223.76330421],\n",
       "        [ 59.68228753, 229.31771247],\n",
       "        [ 59.88880064, 230.11119936],\n",
       "        [ 33.45512311, 128.54487689],\n",
       "        [ 36.34630659, 139.65369341],\n",
       "        [ 12.39078634,  47.60921366]]))"
      ]
     },
     "execution_count": 46,
     "metadata": {},
     "output_type": "execute_result"
    }
   ],
   "source": [
    "test_stat, p_value, DoF, exp_values = chi2_contingency(table)\n",
    "chi2_contingency(table)"
   ]
  },
  {
   "cell_type": "code",
   "execution_count": 47,
   "metadata": {},
   "outputs": [
    {
     "name": "stdout",
     "output_type": "stream",
     "text": [
      "16.89\n",
      "0.0047\n",
      "5.00\n"
     ]
    }
   ],
   "source": [
    "print('{:.2f}'.format(test_stat))\n",
    "print('{:.4f}'.format(p_value))\n",
    "print('{:.2f}'.format(DoF))"
   ]
  },
  {
   "cell_type": "markdown",
   "metadata": {},
   "source": [
    "- The **Test statistic** is **16.89**\n",
    "- The **P value** is **0.0047** (in 4 decimal places)\n",
    "- The **degrees of freedom (DoF)** is **5**"
   ]
  },
  {
   "cell_type": "code",
   "execution_count": 49,
   "metadata": {},
   "outputs": [
    {
     "name": "stdout",
     "output_type": "stream",
     "text": [
      "Reject the Null Hypothesis (H0)\n"
     ]
    }
   ],
   "source": [
    "if p_value <= sig_level:\n",
    "    print('Reject the Null Hypothesis (H0)')\n",
    "else:\n",
    "    print('Fail to reject the Null Hypothesis (H0)')"
   ]
  },
  {
   "cell_type": "markdown",
   "metadata": {},
   "source": [
    "### Conclusion and Insights for Research Question 1"
   ]
  },
  {
   "cell_type": "markdown",
   "metadata": {},
   "source": [
    "Since the $p$-value **0.0047**  is **less than** the significance level **0.05**, **reject the null hypothesis** under a significance level of 5%, suggesting that there is strong enough evidence that there is a statistical difference in the willingness of the employees to discuss a mental health issue to their coworkers between the different size of companies.\n",
    "\n",
    "We cannot say that this difference makes the employees more willing to discuss a mental health issue with their coworkers between the different size of companies because the statistics only prove that there is a significant difference in the willingness of the employees to discuss a mental health issue to their coworkers between the different size of companies. \n",
    "\n",
    "While there is a statistical difference, it is still important to note that there is not much data to prove whether the companies' varying size affects or influences the respondent's decision to open up or socialize to their peers or coworkers about mental health. Albeit, all of the population groups had relatively higher frequencies of responses 'yes' over 'no' in a question of whether they were willing to talk about a mental health issue to a coworker or not. This can be a useful insight for future related literary materials regarding mental health in the tech workplace."
   ]
  },
  {
   "cell_type": "markdown",
   "metadata": {},
   "source": [
    "### Research Question 2"
   ]
  },
  {
   "cell_type": "markdown",
   "metadata": {},
   "source": [
    "The second research question is \"is there a difference between the average age of employees who said **\"yes\"** in being willing to discuss a mental health issue with coworkers and those who said **\"no\"**?\". From a previous EDA question, there was a slight difference in the average age between those who said **\"yes\"**, and those who said **\"no\"**. We want to find out if this statistically significant, so we will conduct a hypothesis test.\n",
    "\n",
    "The chosen significance level (α) is 0.05"
   ]
  },
  {
   "cell_type": "markdown",
   "metadata": {},
   "source": [
    "Based on the sample, the difference in the means of the age for those who said **\"yes\"** and for those who said **\"no\"** is:"
   ]
  },
  {
   "cell_type": "code",
   "execution_count": 50,
   "metadata": {},
   "outputs": [
    {
     "name": "stdout",
     "output_type": "stream",
     "text": [
      "0.25\n"
     ]
    }
   ],
   "source": [
    "yes_mean = mental_df[mental_df['coworkers'] == 1].Age.mean()\n",
    "no_mean = mental_df[mental_df['coworkers'] == 0].Age.mean()\n",
    "difference = abs(yes_mean-no_mean)\n",
    "print('{:.2f}'.format(difference))"
   ]
  },
  {
   "cell_type": "markdown",
   "metadata": {},
   "source": [
    "#### Independent T-test in Comparing Two Different Means"
   ]
  },
  {
   "cell_type": "markdown",
   "metadata": {},
   "source": [
    "These are our respective hypotheses:\n",
    "\n",
    "$H_0$ (null hypothesis): The true difference is 0\n",
    "\n",
    "$H_A$ (alternative hypothesis): The true difference is not 0"
   ]
  },
  {
   "cell_type": "markdown",
   "metadata": {},
   "source": [
    "We can use the independent $t$-test to compare the two average ages from the unpaired groups. Using the $t$-test assumes the Null Hypothesis states that the difference between the two means is 0, while the Alternative Hypothesis states that the difference between the two means is not 0."
   ]
  },
  {
   "cell_type": "code",
   "execution_count": 51,
   "metadata": {},
   "outputs": [
    {
     "data": {
      "text/plain": [
       "Ttest_indResult(statistic=-0.4659105230134945, pvalue=0.6415501187332883)"
      ]
     },
     "execution_count": 51,
     "metadata": {},
     "output_type": "execute_result"
    }
   ],
   "source": [
    "ttest_ind(mental_df[mental_df[\"coworkers\"] == 1][\"Age\"],\n",
    "          mental_df[mental_df[\"coworkers\"] == 0][\"Age\"],\n",
    "          equal_var = False)"
   ]
  },
  {
   "cell_type": "markdown",
   "metadata": {},
   "source": [
    "### Conclusion and Insights for Question 2"
   ]
  },
  {
   "cell_type": "markdown",
   "metadata": {},
   "source": [
    "Since the $p$-value is 0.64, do not reject the null hypothesis under a significance level of 5%, suggesting that there is not enough evidence of a difference between the average age of employees who said \"yes\" in being willing to discuss a mental health issue with coworkers and those who said \"no.\"\n",
    "\n",
    "In other words, we cannot say that there is a difference in the average of employees who are willing to discuss a mental health issue and those who are not willing since there is insufficient evidence to support the alternative hypothesis. The average age of those who said NO and the average of those who said YES does not have a true difference (based on the test), meaning the ages do not have significant difference BECAUSE (based on what we already know in the real world, tests, and statistical summaries):\n",
    "1. The ages that were revealed from the test and previous numerical summaries suggest that they were born around the millennial generation. This generation is known to be more open and not conservative, unlike the older generation.\n",
    "2. With that in mind, it could mean that other factors are taken into consideration as to why there is no true difference in the age of who said yes or no like cultural factors since there are respondents who answered that are not from the United States\n",
    "3. Subjectivity could be one reason why those who said NO responded that way, meaning that they choose who to discuss sensitive topics with, such as mental health."
   ]
  },
  {
   "cell_type": "code",
   "execution_count": 0,
   "metadata": {},
   "outputs": [],
   "source": []
  }
 ],
 "metadata": {
  "kernelspec": {
   "display_name": "Python 3",
   "language": "python",
   "name": "python3"
  },
  "language_info": {
   "codemirror_mode": {
    "name": "ipython",
    "version": 3
   },
   "file_extension": ".py",
   "mimetype": "text/x-python",
   "name": "python",
   "nbconvert_exporter": "python",
   "pygments_lexer": "ipython3",
   "version": "3.8.3"
  }
 },
 "nbformat": 4,
 "nbformat_minor": 4
}
